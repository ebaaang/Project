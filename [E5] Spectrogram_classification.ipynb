{
 "cells": [
  {
   "cell_type": "markdown",
   "metadata": {},
   "source": [
    "# [Explortaion 5] Spectrogram classification 모델 구현 😃"
   ]
  },
  {
   "cell_type": "markdown",
   "metadata": {},
   "source": [
    "이번 프로젝트에서는 음성(오디오)형태의 데이터를 다루는 과정이다.   \n",
    "텍스트와 달리 오디오는 그 자체만으로도 알고 넘어가야할 것이 많았으며(예를 들면, 파동, 주파수 등..) 이를 전부 이해하고 프로젝트를 진행하는 것은 하루아침에 할 수 있는 일이 아닌것 같아 오디오 파일을 데이터 형식으로 변환하고 활용하는데 집중을 하였다.   \n",
    "그럼 시이작~!"
   ]
  },
  {
   "cell_type": "markdown",
   "metadata": {},
   "source": [
    "## 1. 데이터 처리와 분류"
   ]
  },
  {
   "cell_type": "code",
   "execution_count": 1,
   "metadata": {},
   "outputs": [],
   "source": [
    "import numpy as np\n",
    "import matplotlib.pyplot as plt\n",
    "import os\n",
    "\n",
    "data_path = os.getenv(\"HOME\")+'/aiffel/speech_recognition/data/speech_wav_8000.npz'\n",
    "speech_data = np.load(data_path)"
   ]
  },
  {
   "cell_type": "markdown",
   "metadata": {},
   "source": [
    "먼저 데이터셋을 다운받아 준비하고 `np.load`를 통해 로드한다.  \n",
    "데이터셋에 대한 정보는 아래에 더욱 자세히 설명하였고, 데이터셋 다운로드는 아래에서 진행하였다.   \n",
    "   \n",
    "   \n",
    "   \n",
    "`$ wget https://aiffelstaticdev.blob.core.windows.net/dataset/speech_wav_8000.npz -P ~/aiffel/speech_recognition/data`"
   ]
  },
  {
   "cell_type": "markdown",
   "metadata": {},
   "source": [
    "### 라벨 데이터 처리하기 "
   ]
  },
  {
   "cell_type": "code",
   "execution_count": 3,
   "metadata": {},
   "outputs": [
    {
     "name": "stdout",
     "output_type": "stream",
     "text": [
      "Wave data shape :  (50620, 8000)\n",
      "Label data shape :  (50620, 1)\n",
      "✅\n"
     ]
    }
   ],
   "source": [
    "#데이터셋 살펴보기\n",
    "print(\"Wave data shape : \", speech_data[\"wav_vals\"].shape)\n",
    "print(\"Label data shape : \", speech_data[\"label_vals\"].shape)\n",
    "print(\"✅\")\n"
   ]
  },
  {
   "cell_type": "markdown",
   "metadata": {},
   "source": [
    "데이터셋을 살펴보면, 1초길이의 음성파일 50620개와 8000의 **sample rate**을 가지고 있다.   \n",
    "여기서 sample rate에 대해 부가적인 설명을 하자면, **샘플링**이라는 단어는 오디오 신호를 디지털 단위로 쪼개기 위해 사용된 단위이다. 즉, 소리를 데이터 단위로 바꾸기 위한 단위를 말한다. 이 데이터셋에서 sample rate은 8000인데, 이는 **1초를 8000의 디지털 단위**로 쪼갰다는 것을 의미한다.   \n",
    "   \n",
    "   \n",
    "데이터셋은 ```wav_vals```와 ```lavel_vals```로 나뉜다. ```wav_vals```는 음성 데이터파일을, ```lavel_vals``` 데이터 파일에 대한 label이다."
   ]
  },
  {
   "cell_type": "markdown",
   "metadata": {},
   "source": [
    "아래와 같이 데이터셋을 테스트 해볼 수 있다. label은 yes 가리키고 있고, 음성을 재생해보면 yes라고 정확히 들린다."
   ]
  },
  {
   "cell_type": "code",
   "execution_count": 4,
   "metadata": {},
   "outputs": [
    {
     "name": "stdout",
     "output_type": "stream",
     "text": [
      "rand num :  42301\n",
      "Wave data shape :  (8000,)\n",
      "label :  ['yes']\n"
     ]
    },
    {
     "data": {
      "text/html": [
       "\n",
       "                <audio  controls=\"controls\" >\n",
       "                    <source src=\"data:audio/wav;base64,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\" type=\"audio/wav\" />\n",
       "                    Your browser does not support the audio element.\n",
       "                </audio>\n",
       "              "
      ],
      "text/plain": [
       "<IPython.lib.display.Audio object>"
      ]
     },
     "execution_count": 4,
     "metadata": {},
     "output_type": "execute_result"
    }
   ],
   "source": [
    "#위에서 설명한 데이터가 맞는지 확인해봅시다.\n",
    "import IPython.display as ipd\n",
    "import random\n",
    "\n",
    "# 데이터 선택 (랜덤하게 선택하고 있으니, 여러번 실행해 보세요)\n",
    "rand = random.randint(0, len(speech_data[\"wav_vals\"]))\n",
    "print(\"rand num : \", rand)\n",
    "\n",
    "sr = 8000 # 1초동안 재생되는 샘플의 갯수\n",
    "data = speech_data[\"wav_vals\"][rand]\n",
    "print(\"Wave data shape : \", data.shape)\n",
    "print(\"label : \", speech_data[\"label_vals\"][rand])\n",
    "\n",
    "ipd.Audio(data, rate=sr)"
   ]
  },
  {
   "cell_type": "markdown",
   "metadata": {},
   "source": [
    "### sklearn의 train_test_split함수를 이용하여 train, test 분리 "
   ]
  },
  {
   "cell_type": "markdown",
   "metadata": {},
   "source": [
    "레이블을 학습시키기 위해서는 인덱스 형태로 바꿔줘야한다. 아래와 같이 10개의 레이블에 ```unknown```과 ```silence```를 추가하여 **총 12개**의 인덱스를 각각 추가해준다."
   ]
  },
  {
   "cell_type": "code",
   "execution_count": 5,
   "metadata": {},
   "outputs": [
    {
     "name": "stdout",
     "output_type": "stream",
     "text": [
      "LABEL :  ['yes', 'no', 'up', 'down', 'left', 'right', 'on', 'off', 'stop', 'go', 'unknown', 'silence']\n",
      "Indexed LABEL :  {'yes': 0, 'no': 1, 'up': 2, 'down': 3, 'left': 4, 'right': 5, 'on': 6, 'off': 7, 'stop': 8, 'go': 9, 'unknown': 10, 'silence': 11}\n"
     ]
    }
   ],
   "source": [
    "#Label data 처리 / 학습을 위해서는 Text 데이터를 학습가능한 형태로 만들어줘야 합니다.\n",
    "\n",
    "target_list = ['yes', 'no', 'up', 'down', 'left', 'right', 'on', 'off', 'stop', 'go']\n",
    "\n",
    "label_value = target_list\n",
    "label_value.append('unknown')\n",
    "label_value.append('silence')\n",
    "\n",
    "print('LABEL : ', label_value)\n",
    "\n",
    "new_label_value = dict()\n",
    "for i, l in enumerate(label_value):\n",
    "    new_label_value[l] = i\n",
    "label_value = new_label_value\n",
    "\n",
    "print('Indexed LABEL : ', new_label_value)"
   ]
  },
  {
   "cell_type": "code",
   "execution_count": 6,
   "metadata": {},
   "outputs": [
    {
     "data": {
      "text/plain": [
       "11"
      ]
     },
     "execution_count": 6,
     "metadata": {},
     "output_type": "execute_result"
    }
   ],
   "source": [
    "#Text로 이루어진 라벨 데이터를 학습에 사용하기 위해서 index 형태로 바꿔주는 작업을 하였습니다.\n",
    "#int로 이뤄진 index 작업을 통해서 Label data를 더 쉽게 사용할 수 있습니다.\n",
    "\n",
    "temp = []\n",
    "for v in speech_data[\"label_vals\"]:\n",
    "    temp.append(label_value[v[0]])\n",
    "label_data = np.array(temp)\n",
    "\n",
    "label_data[50000]"
   ]
  },
  {
   "cell_type": "markdown",
   "metadata": {},
   "source": [
    "이제는 ```scikit_learn의 train_test_split```을 활용하여 **train set과 test set을 분리**한다.   \n",
    "`scikit_learn`을 활용하면 데이터셋의 분리가 아주 쉬워 유용하게 활용할 것 같다."
   ]
  },
  {
   "cell_type": "code",
   "execution_count": 22,
   "metadata": {},
   "outputs": [
    {
     "name": "stdout",
     "output_type": "stream",
     "text": [
      "train_wav 수 : 45558\n",
      "test_wav 수 : 5062\n",
      "첫번째 train_wav 길이: 8000\n",
      "[[ 1.37812120e-03  2.19695992e-03  8.42016889e-04 ...  8.14145338e-03\n",
      "   7.97708519e-03  9.92919039e-03]\n",
      " [-2.01297953e-04 -2.61025270e-04  7.27146165e-04 ...  6.20668216e-05\n",
      "   9.06980931e-05  1.10165245e-04]\n",
      " [-7.00830370e-02 -1.98620468e-01 -1.60113811e-01 ...  1.63506463e-01\n",
      "  -6.23556972e-02 -2.37034544e-01]\n",
      " ...\n",
      " [ 3.85755301e-03  5.49312960e-03  6.72766706e-04 ...  2.55996780e-03\n",
      "   1.80626509e-03 -1.09540788e-03]\n",
      " [-1.06486923e-05 -9.14146804e-05 -2.89382951e-05 ... -2.46212967e-05\n",
      "  -8.48034397e-05 -2.69717770e-04]\n",
      " [ 3.28801014e-03  5.10893622e-03  2.83486501e-04 ...  2.06034514e-03\n",
      "   1.68294122e-03 -2.31474056e-03]]\n"
     ]
    }
   ],
   "source": [
    "#학습을 위한 데이터 분리\n",
    "\n",
    "from sklearn.model_selection import train_test_split\n",
    "\n",
    "sr = 8000\n",
    "train_wav, test_wav, train_label, test_label = train_test_split(speech_data[\"wav_vals\"], \n",
    "                                                                label_data, \n",
    "                                                                test_size=0.1,\n",
    "                                                                 shuffle=True)\n",
    "print('train_wav 수 :', len(train_wav))\n",
    "print('test_wav 수 :', len(test_wav))\n",
    "print('첫번째 train_wav 길이:', len(train_wav[0]))\n",
    "print(train_wav)\n",
    "train_wav = train_wav.reshape([-1, sr, 1]) # add channel for CNN\n",
    "test_wav = test_wav.reshape([-1, sr, 1])\n"
   ]
  },
  {
   "cell_type": "markdown",
   "metadata": {},
   "source": [
    "분리된 테스트셋과 트레인셋에 대해 자세히 알아보았다.   \n",
    "먼저, **train_wav**는 총 **45558개**, **test_wav**는 **5062개**로 분리되었다.   \n",
    "그리고 **train_wav**의 길이는 **8000**개로, 위와 같은 **shape**을 가지고 있다."
   ]
  },
  {
   "cell_type": "markdown",
   "metadata": {},
   "source": [
    "# 2. 학습을 위한 하이퍼파라미터 설정"
   ]
  },
  {
   "cell_type": "code",
   "execution_count": 24,
   "metadata": {},
   "outputs": [
    {
     "data": {
      "text/plain": [
       "'/home/aiffel-dj58/aiffel/speech_recognition/models/wav'"
      ]
     },
     "execution_count": 24,
     "metadata": {},
     "output_type": "execute_result"
    }
   ],
   "source": [
    "#Hyper-parameters setting\n",
    "batch_size = 32\n",
    "max_epochs = 5\n",
    "\n",
    "# the save point\n",
    "checkpoint_dir = os.getenv('HOME')+'/aiffel/speech_recognition/models/wav'\n",
    "\n",
    "checkpoint_dir"
   ]
  },
  {
   "cell_type": "markdown",
   "metadata": {},
   "source": [
    "하이퍼파라미터인 **batch_size**와 **max_epochs**값을 정해준다.   \n",
    "또, **callback**함수를 위한 **체크포인트**도 설정한다."
   ]
  },
  {
   "cell_type": "markdown",
   "metadata": {},
   "source": [
    "# 3. 데이터셋 구성"
   ]
  },
  {
   "cell_type": "markdown",
   "metadata": {},
   "source": [
    "\n",
    "- tf.data.Dataset을 이용\n",
    "- from_tensor_slices 함수에 return 받길 원하는 데이터를 튜플 (data, label) 형태로 넣어서 사용\n",
    "- map과 batch를 이용한 데이터 전처리\n",
    "- 주의 : waveform을 spectrogram으로 변환하기 위해 추가로 사용하는 메모리 때문에 이후 메모리 부족 현상을 겪게 될수도 있습니다.\n",
    "    tf.data.Dataset이 생성된 이후, 아래 예시와 같이 wav 데이터나 spectrogram 데이터를 담아둔 메모리 버퍼를 비워 주면 도움이 됩니다.\n"
   ]
  },
  {
   "cell_type": "code",
   "execution_count": 25,
   "metadata": {},
   "outputs": [],
   "source": [
    "import librosa\n",
    "def wav2spec(wav, fft_size=258): # spectrogram shape을 맞추기위해서 size 변형\n",
    "    D = np.abs(librosa.stft(wav, n_fft=fft_size))\n",
    "    return D"
   ]
  },
  {
   "cell_type": "code",
   "execution_count": 26,
   "metadata": {},
   "outputs": [
    {
     "name": "stdout",
     "output_type": "stream",
     "text": [
      "<BatchDataset shapes: ((None, 8000, 1), (None, 12)), types: (tf.float32, tf.float32)>\n",
      "<BatchDataset shapes: ((None, 8000, 1), (None, 12)), types: (tf.float32, tf.float32)>\n",
      "✅\n"
     ]
    }
   ],
   "source": [
    "#Data setting\n",
    "#tf.data.Dataset을 이용해서 데이터셋을 구성하겠습니다. \n",
    "#Tensorflow에 포함된 이 데이터셋 관리 패키지는 데이터셋 전처리, 배치처리 등을 쉽게 할 수 있도록 해 줍니다. \n",
    "\n",
    "def one_hot_label(wav, label):\n",
    "    label = tf.one_hot(label, depth=12)\n",
    "    return wav, label\n",
    "import tensorflow as tf\n",
    "import numpy as np\n",
    "\n",
    "# for train\n",
    "train_dataset = tf.data.Dataset.from_tensor_slices((train_wav, train_label))\n",
    "train_dataset = train_dataset.map(one_hot_label)\n",
    "train_dataset = train_dataset.repeat().batch(batch_size=batch_size)\n",
    "print(train_dataset)\n",
    "\n",
    "\n",
    "# for test\n",
    "test_dataset = tf.data.Dataset.from_tensor_slices((test_wav, test_label))\n",
    "test_dataset = test_dataset.map(one_hot_label)\n",
    "test_dataset = test_dataset.batch(batch_size=batch_size)\n",
    "print(test_dataset)\n",
    "print(\"✅\")\n",
    "\n",
    "import librosa\n",
    "def wav2spec(wav, fft_size=258): # spectrogram shape을 맞추기위해서 size 변형\n",
    "    D = np.abs(librosa.stft(wav, n_fft=fft_size))\n",
    "    return D\n"
   ]
  },
  {
   "cell_type": "markdown",
   "metadata": {},
   "source": [
    "위와 같이 ```tf.data.Dataset```을 활용하여 데이터셋을 구성하였다. 자세히 살펴보면 위에 파라미터를 정한 batch_size와 train/test_wav,label등이 들어간다.   \n",
    "사실 아직 어떻게 ```tf.data.Dataset```을 이용하여 모델을 설정한지 이해가 가지 않아 시간을 가지고 더 공부를 해볼 예정이다."
   ]
  },
  {
   "cell_type": "markdown",
   "metadata": {},
   "source": [
    "# 4. 2차원 Spectrogram 데이터를 처리하는 모델 구성"
   ]
  },
  {
   "cell_type": "code",
   "execution_count": 27,
   "metadata": {},
   "outputs": [
    {
     "data": {
      "text/plain": [
       "(10000, 130, 126)"
      ]
     },
     "execution_count": 27,
     "metadata": {},
     "output_type": "execute_result"
    }
   ],
   "source": [
    "spec_data=[] \n",
    "for wav in speech_data[\"wav_vals\"][:10000]: \n",
    "    stft = wav2spec(wav)\n",
    "    spec_data.append(stft)\n",
    "spec_data = np.array(spec_data)\n",
    "spec_data.shape"
   ]
  },
  {
   "cell_type": "markdown",
   "metadata": {},
   "source": [
    "2차원 Spectogram을 처리하는 과정에서 많은 오류가 있었다.   \n",
    "1차원 데이터를 활용해서 2차원 스펙토그램을 만든다는 것은 이해하였는데 이걸 코드로 어떻게 구현할지에 대해서는 전혀 감이 없었다.   \n",
    "다행히 팀원분들의 도움을 받아 2차원 Spectogram을 구성하였지만 메모리 부족때문인지 커널이 계속 꺼지는 현상이 발생하여 10001개까지로 갯수를 제한하였다."
   ]
  },
  {
   "cell_type": "code",
   "execution_count": 16,
   "metadata": {},
   "outputs": [
    {
     "name": "stdout",
     "output_type": "stream",
     "text": [
      "Model: \"model_1\"\n",
      "__________________________________________________________________________________________________\n",
      "Layer (type)                    Output Shape         Param #     Connected to                     \n",
      "==================================================================================================\n",
      "input_2 (InputLayer)            [(None, 8000, 1)]    0                                            \n",
      "__________________________________________________________________________________________________\n",
      "conv1d_10 (Conv1D)              (None, 8000, 32)     320         input_2[0][0]                    \n",
      "__________________________________________________________________________________________________\n",
      "conv1d_11 (Conv1D)              (None, 8000, 32)     9248        conv1d_10[0][0]                  \n",
      "__________________________________________________________________________________________________\n",
      "max_pooling1d_4 (MaxPooling1D)  (None, 4000, 32)     0           conv1d_11[0][0]                  \n",
      "__________________________________________________________________________________________________\n",
      "conv1d_12 (Conv1D)              (None, 4000, 64)     18496       max_pooling1d_4[0][0]            \n",
      "__________________________________________________________________________________________________\n",
      "conv1d_13 (Conv1D)              (None, 4000, 64)     36928       conv1d_12[0][0]                  \n",
      "__________________________________________________________________________________________________\n",
      "tf_op_layer_concat (TensorFlowO [(None, 4000, 96)]   0           conv1d_13[0][0]                  \n",
      "                                                                 max_pooling1d_4[0][0]            \n",
      "__________________________________________________________________________________________________\n",
      "max_pooling1d_5 (MaxPooling1D)  (None, 2000, 96)     0           tf_op_layer_concat[0][0]         \n",
      "__________________________________________________________________________________________________\n",
      "conv1d_14 (Conv1D)              (None, 2000, 128)    110720      max_pooling1d_5[0][0]            \n",
      "__________________________________________________________________________________________________\n",
      "conv1d_15 (Conv1D)              (None, 2000, 128)    147584      conv1d_14[0][0]                  \n",
      "__________________________________________________________________________________________________\n",
      "conv1d_16 (Conv1D)              (None, 2000, 128)    147584      conv1d_15[0][0]                  \n",
      "__________________________________________________________________________________________________\n",
      "tf_op_layer_concat_1 (TensorFlo [(None, 2000, 224)]  0           conv1d_16[0][0]                  \n",
      "                                                                 max_pooling1d_5[0][0]            \n",
      "__________________________________________________________________________________________________\n",
      "max_pooling1d_6 (MaxPooling1D)  (None, 1000, 224)    0           tf_op_layer_concat_1[0][0]       \n",
      "__________________________________________________________________________________________________\n",
      "conv1d_17 (Conv1D)              (None, 1000, 256)    516352      max_pooling1d_6[0][0]            \n",
      "__________________________________________________________________________________________________\n",
      "conv1d_18 (Conv1D)              (None, 1000, 256)    590080      conv1d_17[0][0]                  \n",
      "__________________________________________________________________________________________________\n",
      "conv1d_19 (Conv1D)              (None, 1000, 256)    590080      conv1d_18[0][0]                  \n",
      "__________________________________________________________________________________________________\n",
      "tf_op_layer_concat_2 (TensorFlo [(None, 1000, 480)]  0           conv1d_19[0][0]                  \n",
      "                                                                 max_pooling1d_6[0][0]            \n",
      "__________________________________________________________________________________________________\n",
      "max_pooling1d_7 (MaxPooling1D)  (None, 500, 480)     0           tf_op_layer_concat_2[0][0]       \n",
      "__________________________________________________________________________________________________\n",
      "dropout_1 (Dropout)             (None, 500, 480)     0           max_pooling1d_7[0][0]            \n",
      "__________________________________________________________________________________________________\n",
      "flatten_1 (Flatten)             (None, 240000)       0           dropout_1[0][0]                  \n",
      "__________________________________________________________________________________________________\n",
      "dense_2 (Dense)                 (None, 256)          61440256    flatten_1[0][0]                  \n",
      "__________________________________________________________________________________________________\n",
      "batch_normalization_1 (BatchNor (None, 256)          1024        dense_2[0][0]                    \n",
      "__________________________________________________________________________________________________\n",
      "activation_1 (Activation)       (None, 256)          0           batch_normalization_1[0][0]      \n",
      "__________________________________________________________________________________________________\n",
      "dense_3 (Dense)                 (None, 12)           3084        activation_1[0][0]               \n",
      "==================================================================================================\n",
      "Total params: 63,611,756\n",
      "Trainable params: 63,611,244\n",
      "Non-trainable params: 512\n",
      "__________________________________________________________________________________________________\n"
     ]
    }
   ],
   "source": [
    "input_tensor = layers.Input(shape=(sr, 1))\n",
    "\n",
    "\n",
    "x = layers.Conv1D(32, 9, padding='same', activation='relu')(input_tensor)\n",
    "x = layers.Conv1D(32, 9, padding='same', activation='relu')(x)\n",
    "skip_1 = layers.MaxPool1D()(x)\n",
    "\n",
    "x = layers.Conv1D(64, 9, padding='same', activation='relu')(skip_1)\n",
    "x = layers.Conv1D(64, 9, padding='same', activation='relu')(x)\n",
    "x = tf.concat([x, skip_1], -1)\n",
    "skip_2 = layers.MaxPool1D()(x)\n",
    "\n",
    "x = layers.Conv1D(128, 9, padding='same', activation='relu')(skip_2)\n",
    "x = layers.Conv1D(128, 9, padding='same', activation='relu')(x)\n",
    "x = layers.Conv1D(128, 9, padding='same', activation='relu')(x)\n",
    "x = tf.concat([x, skip_2], -1)\n",
    "skip_3 = layers.MaxPool1D()(x)\n",
    "\n",
    "x = layers.Conv1D(256, 9, padding='same', activation='relu')(skip_3)\n",
    "x = layers.Conv1D(256, 9, padding='same', activation='relu')(x)\n",
    "x = layers.Conv1D(256, 9, padding='same', activation='relu')(x)\n",
    "x = tf.concat([x, skip_3], -1)\n",
    "x = layers.MaxPool1D()(x)\n",
    "x = layers.Dropout(0.3)(x)\n",
    "\n",
    "x = layers.Flatten()(x)\n",
    "x = layers.Dense(256)(x)\n",
    "x = layers.BatchNormalization()(x)\n",
    "x = layers.Activation('relu')(x)\n",
    "\n",
    "output_tensor = layers.Dense(12)(x)\n",
    "\n",
    "model_wav_skip = tf.keras.Model(input_tensor, output_tensor)\n",
    "\n",
    "model_wav_skip.summary()"
   ]
  },
  {
   "cell_type": "markdown",
   "metadata": {},
   "source": [
    "정상적으로 모델을 구성하였고,"
   ]
  },
  {
   "cell_type": "code",
   "execution_count": 20,
   "metadata": {},
   "outputs": [
    {
     "name": "stdout",
     "output_type": "stream",
     "text": [
      "✅\n"
     ]
    }
   ],
   "source": [
    "optimizer=tf.keras.optimizers.Adam(1e-4)\n",
    "model_wav_skip.compile(loss=tf.keras.losses.CategoricalCrossentropy(from_logits=True),\n",
    "             optimizer=optimizer,\n",
    "             metrics=['accuracy'])\n",
    "print(\"✅\")"
   ]
  },
  {
   "cell_type": "code",
   "execution_count": 21,
   "metadata": {},
   "outputs": [
    {
     "name": "stdout",
     "output_type": "stream",
     "text": [
      "✅\n"
     ]
    }
   ],
   "source": [
    "# the save point\n",
    "checkpoint_dir = os.getenv('HOME')+'/aiffel/speech_recognition/models/wav_skip'\n",
    "\n",
    "cp_callback = tf.keras.callbacks.ModelCheckpoint(checkpoint_dir,\n",
    "                                                 save_weights_only=True,\n",
    "                                                 monitor='val_loss',\n",
    "                                                 mode='auto',\n",
    "                                                 save_best_only=True,\n",
    "                                                 verbose=1)\n",
    "print(\"✅\")"
   ]
  },
  {
   "cell_type": "markdown",
   "metadata": {},
   "source": [
    "체크포인트를 위와 같이 설정하였으며, multi-class classification을 위해 Cross-Entropy loss를 사용하였다. 라고 하는데.. 정확히 어떤 필요에 의해 위와 같은 세팅을 하는지 더 찾아볼 계획이다."
   ]
  },
  {
   "cell_type": "code",
   "execution_count": 22,
   "metadata": {},
   "outputs": [
    {
     "name": "stdout",
     "output_type": "stream",
     "text": [
      "Epoch 1/5\n",
      "1423/1423 [==============================] - ETA: 0s - loss: 1.2140 - accuracy: 0.6094\n",
      "Epoch 00001: val_loss improved from inf to 0.82837, saving model to /home/aiffel-dj58/aiffel/speech_recognition/models/wav_skip\n",
      "1423/1423 [==============================] - 170s 120ms/step - loss: 1.2140 - accuracy: 0.6094 - val_loss: 0.8284 - val_accuracy: 0.7466\n",
      "Epoch 2/5\n",
      "1423/1423 [==============================] - ETA: 0s - loss: 0.6487 - accuracy: 0.8064\n",
      "Epoch 00002: val_loss improved from 0.82837 to 0.52077, saving model to /home/aiffel-dj58/aiffel/speech_recognition/models/wav_skip\n",
      "1423/1423 [==============================] - 173s 121ms/step - loss: 0.6487 - accuracy: 0.8064 - val_loss: 0.5208 - val_accuracy: 0.8426\n",
      "Epoch 3/5\n",
      "1423/1423 [==============================] - ETA: 0s - loss: 0.3603 - accuracy: 0.9036\n",
      "Epoch 00003: val_loss improved from 0.52077 to 0.43105, saving model to /home/aiffel-dj58/aiffel/speech_recognition/models/wav_skip\n",
      "1423/1423 [==============================] - 177s 124ms/step - loss: 0.3603 - accuracy: 0.9036 - val_loss: 0.4311 - val_accuracy: 0.8776\n",
      "Epoch 4/5\n",
      "1423/1423 [==============================] - ETA: 0s - loss: 0.1940 - accuracy: 0.9541\n",
      "Epoch 00004: val_loss improved from 0.43105 to 0.41689, saving model to /home/aiffel-dj58/aiffel/speech_recognition/models/wav_skip\n",
      "1423/1423 [==============================] - 179s 126ms/step - loss: 0.1940 - accuracy: 0.9541 - val_loss: 0.4169 - val_accuracy: 0.8697\n",
      "Epoch 5/5\n",
      "1423/1423 [==============================] - ETA: 0s - loss: 0.1132 - accuracy: 0.9756\n",
      "Epoch 00005: val_loss improved from 0.41689 to 0.32857, saving model to /home/aiffel-dj58/aiffel/speech_recognition/models/wav_skip\n",
      "1423/1423 [==============================] - 179s 126ms/step - loss: 0.1132 - accuracy: 0.9756 - val_loss: 0.3286 - val_accuracy: 0.9023\n",
      "✅\n"
     ]
    }
   ],
   "source": [
    "history_wav_skip = model_wav_skip.fit(train_dataset, epochs=max_epochs,\n",
    "                    steps_per_epoch=len(train_wav) // batch_size,\n",
    "                    validation_data=test_dataset,\n",
    "                    validation_steps=len(test_wav) // batch_size,\n",
    "                    callbacks=[cp_callback]\n",
    "                    )\n",
    "print(\"✅\")"
   ]
  },
  {
   "cell_type": "markdown",
   "metadata": {},
   "source": [
    "에폭값을 5로 주고 train을 시켰다. epoch당 시간이 너무 오래 걸리다보니 많이 주지 못한게 아쉽다.  \n",
    "여기서도 시간이 너무 오래 걸리는 오류가 에러가 있었다. 에폭당 8분이 넘게 걸린다고 ETA가 나와있었다. 원인을 찾다보니 랩탑의 배터리 충전이 빠져있어서 성능이 낮아진 것이 원인이었음을 파악했다.."
   ]
  },
  {
   "cell_type": "markdown",
   "metadata": {},
   "source": [
    "# 5. 학습 후, 학습이 어떻게 진행됐는지 그래프로 출력"
   ]
  },
  {
   "cell_type": "code",
   "execution_count": 23,
   "metadata": {},
   "outputs": [
    {
     "data": {
      "image/png": "[encoded data removed]",
      "text/plain": [
       "<Figure size 576x576 with 2 Axes>"
      ]
     },
     "metadata": {
      "needs_background": "light"
     },
     "output_type": "display_data"
    },
    {
     "name": "stdout",
     "output_type": "stream",
     "text": [
      "✅\n"
     ]
    }
   ],
   "source": [
    "import matplotlib.pyplot as plt\n",
    "\n",
    "acc = history_wav_skip.history['accuracy']\n",
    "val_acc = history_wav_skip.history['val_accuracy']\n",
    "\n",
    "loss=history_wav_skip.history['loss']\n",
    "val_loss=history_wav_skip.history['val_loss']\n",
    "\n",
    "epochs_range = range(len(acc))\n",
    "\n",
    "plt.figure(figsize=(8, 8))\n",
    "plt.subplot(1, 2, 1)\n",
    "plt.plot(epochs_range, acc, label='Training Accuracy')\n",
    "plt.plot(epochs_range, val_acc, label='Validation Accuracy')\n",
    "plt.legend(loc='lower right')\n",
    "plt.title('Training and Validation Accuracy')\n",
    "\n",
    "plt.subplot(1, 2, 2)\n",
    "plt.plot(epochs_range, loss, label='Training Loss')\n",
    "plt.plot(epochs_range, val_loss, label='Validation Loss')\n",
    "plt.legend(loc='upper right')\n",
    "plt.title('Training and Validation Loss')\n",
    "plt.show()\n",
    "print(\"✅\")"
   ]
  },
  {
   "cell_type": "markdown",
   "metadata": {},
   "source": [
    "학습 후 matplotlib을 활용하여 그래프를 확인하였다. 에폭값을 10이상으로 놓고 그래프를 확인하면 더 디테일하게 확인할 수 있었을텐데 조금 아쉬운 부분이다. 그래도 어느정도 오버피팅에 대한 부분을 확인할 수 있다."
   ]
  },
  {
   "cell_type": "markdown",
   "metadata": {},
   "source": [
    "# 6. Test dataset을 이용해서 모델의 성능을 평가"
   ]
  },
  {
   "cell_type": "code",
   "execution_count": 24,
   "metadata": {},
   "outputs": [
    {
     "name": "stdout",
     "output_type": "stream",
     "text": [
      "159/159 [==============================] - 18s 111ms/step - loss: 0.3288 - accuracy: 0.9022\n",
      "loss value: 0.329\n",
      "accuracy value: 90.2213%\n",
      "✅\n"
     ]
    }
   ],
   "source": [
    "# Evaluation \n",
    "\n",
    "model_wav_skip.load_weights(checkpoint_dir)\n",
    "results = model_wav_skip.evaluate(test_dataset)\n",
    "\n",
    "# loss\n",
    "print(\"loss value: {:.3f}\".format(results[0]))\n",
    "# accuracy\n",
    "print(\"accuracy value: {:.4f}%\".format(results[1]*100))\n",
    "print(\"✅\")"
   ]
  },
  {
   "cell_type": "markdown",
   "metadata": {},
   "source": [
    "진행하면서 아쉬운 부분이 있었음에도 불구하고 정확도는 **90%**가 넘는 정확도를 보여준다. 기대 이상의 성능을 발휘한다."
   ]
  },
  {
   "cell_type": "code",
   "execution_count": 25,
   "metadata": {},
   "outputs": [
    {
     "name": "stdout",
     "output_type": "stream",
     "text": [
      "label :  go\n"
     ]
    },
    {
     "data": {
      "text/html": [
       "\n",
       "                <audio  controls=\"controls\" >\n",
       "                    <source src=\"data:audio/wav;base64,UklGRqQ+AABXQVZFZm10IBAAAAABAAEAQB8AAIA+AAACABAAZGF0YYA+AAA5AJUAfAAAAJH/hf+O/4v/BgBVAFgASwAdALP/c/+O/87/EgAnAE8AXwBnAG8ASwBRAKcAtwCJAFcAHQD0/+P/+f+6/6f/9P/g/4z/RP84/2T/lf/Q/xUAKAANAF4AigBlAHwAfACvALUARgC2/4H/kP/D//X/0v/R/5T/Gv8P/1T/qv/2/wEAKwAlAO//5P8AAEQAagBtAHkAbgAdAMH/vf/u/yYA9P+B/7H/2f+s/4j/l/++/9f/5v///wMAJABTAF4AJwAaAGcAWwBiAFkAIwDR/8b/JgAwAK3/Dv/u/l//+/8zABcAJwB8AD0AwP/D/0oAggB/AFsAuf+v/9L/2P/8/w0A+v8MAF0AewBiAD4AFAARAAIAEwBJAD0AWABVABgA0P/e/zUAgQBlADEAPgBtAI8AMAAUAKkAtgA9APH/nv/A/xAADQDL/+P//f/X/6r/kf/S//7////7/+H/mf+R/73/0v+S/0X/C/9D/43/aP+t/9D/1P/d/7n/ef+Z/wMAAgC1/3n/hP94/7T/8f/q/+b/4f/3//H/4P/3/1AAewBGAPb/zf8CAFkAbAA5ABsADgAtADMAEwBgAOUA+ACBAEwApwDtAKcAsADnAKIATwBRAIsAhQB3AJsAigCYAMAAZAD8/x0AYQA7ALb/l//o/9//rv/G/yIAQQAUAMP/jf/5/2cAKACg/4L/0f/i/47/Xf9V/zP/Hv89/3j/iP9O/zL/nP/f/8D/t/+g/17/Ov8z/0j/af+n/9v/lP91/83/5/+M/5r/KwBoABIAxf+8/7D/vP/9/1YAXgALALP/y/88AIoAnABZADkAbwCXAJ0AqQC7AJcAfACoAMUArABnABIADQBZADkA9f/t/87/5f8lAHoA5QC/AFAAWgBMADMAfQCIAGcAYABmAFcAQwB3AF0A9P8EADAABQC//6n/xv+j/5n/vP8AAOb/hP9+/1z/I/9p/9r/qv+i/63/d/9V/2X/XP9a/47/jv+m/9P/kv9O/7T/2v+Y/4v/kv+A/13/Vf98/4//qf/I/+D/EAAmAEkACgC0/0kArABFAAEAEgBAADUABQAyADgAxf+a/wgAngC6ALYAhABLAHEAhgA6APr/QwCHAIsAigCcAK0ApACgAKsA5QAhARQBuwBwADcACgACAAMAYwBwAHcAcgAHACUAaQBXAJP/Uf+t/5T/NP9Q/3r/eP+d/7H/xf/a/1IAJwCE/0b/W/9o/y3/If9u/6H/mP+j/5H/S/+B/53/Xf+V/xAAUAAOAO//5v8AAB8A9v8iAFYAOwD3/wcAMQAiAA0A0v/Z//n/FAAnAAMAv//r/zcADwA3AJsAuABDAAQAUgBiAG0AdABQAA8AKgCVAKoAbQA0AC8AAADe/woAIQDk/43/fP+z/+f/8f/2/8v/0v8OAC8AdQCPAJoAlgBfAEoAMAAdAOH/ff8l/xb/Vv9//8n/AwA2AB4AIABbADAANQBKAB0Atv+r/4b/VP/L/yMAAQAJAF8AVABCAEcAUwBYAEQAPQAAAOT//f///6P/W/+a/8T//P80AFQAMwD8/w0AAwAuAHgAYwD6/6L/Zv86/2v/xP8JABgAPwBqAC4A4P/h/wcA5P/L/+v/KgBEADwA2P+E/8b/5v/O/7b/0f/o/wkANgBaAHUAUgBJAEUAJgAcABUAIgAgACAAxf9o/9X/OgA7ABkADgDP/5//+/9UADkAAADt/6f/tf/x/+X/fv8//2H/Yv96/9L/YgB9AC4ABgD4//T//v8tAAEA2/8iABYA5/8UAF4AGwASAFAAdwCBAIMAjwAFAIn/1/99AJ0AjwBRAN3/k/+a/9D/9f8wACoAEQAcAB8AEwAIACMAHgAdAEEABACh//r/QADW/7n/CwAVAL7/lv+D/z3/Df+Z/ykA5P/m/wYAj/+b/wwAEAAnAEUAOwBEADYAQQAjAKf/Zf+2//n/1/8SAPb/lP/A/97/gP+J/zkAdABQAPz/xv/Q/wMALwAwAEQAZgBzACQAAgAwAO7/o//b//H/5f84AMMAzABdAPz/zf/I/wAAmwC/AO3/cv+Y/8j/EQCTAJYA2/+r/1MAtADDAOIAewDp/8v/BADu/77/8f/e/3//cv/P/+v/5P9XAHAABQAWAE4AAwDk/zgAEwCe/+D/WABsABMAtP/z//7/z/8OAAUAev+y/0UABQCJ/3f/OP8p/+b/WQAjAMr/p/9v/2H/vv/R/7L/6f9JADMAw/+l/7r/zf/z/+7/8v/i/5r/of++/z3/6P4z/3z/m/+b/+b/HABBACsA/f+QAPUAjwBCAGYAQwC0/4r/NgCpAGQAcQB/AC0AJgCwABoB6QDCAIYATQBOAGUAQgBhABABSAHvAL4A5QCRACEAOQDFANkAdwBqAE0A5v+8/8v/ZP9e//f/OADp/5L/iv+W/4P/lf/d/53/S/+k/5b/L/80/2j/iv9w/1b/Vf86/zz/Nf8//1f/Hv/6/v3+Pf+Q/63/qv+7/5D/SP+B/6n/fP95/3b/lP+5/63/2f9VAJ8ACwC//+7/QgCgAN4AvABlACMA5P8SAGwAxwDwAOEAbABKAMoATgEYAQYBYQFvASoBWgACADUAaQCWAJkAsQD1APIAzwCeAGsApwD2AKEAPAAAAMH/vv/T/wIA9f///xYA6f/H/7z/xv+K/1P/s/80ADkARAArAHz/VP+F/4f/ef9w/6D/a/8l/yj/X/9x/2D/Hv/b/hD/QP9I/xj/Gf9Z/7//FwAAAPH/1P/H/3//Yv9u/6X/OQBDABUABgAPAKT/pf/q/ykAewB+AP//Z/+U/xkAcABIADUAKADl/8T/zv8qANgAIgHmAFcAUQCvAN0AwgCmAKMAigChAI4AagBIAJUAfgAWAN7/OwBiALH/df+e/wgAcQCQACMAz//5/wsAxP+Y/+L/KQAmAOH/mf/Q/zMAYwBCAHgA8QDVAEUAjf8w/1P/v//W/5v/hP97/4b/Sv8i/1T/vv/9/8L/nP++/xQAGAC5/0T/iv8NADYAKgD4/+r/9/9AAGsAeQCzAN4AkwAGAJT/a/+o/+z/1v/c/w4A/v+z/4z/v/8lAFAAMAAEAOv/3/+f/1D/d//k/w8AEwAFAN7/8/8vACQAHwBNAFoAPQAcAAcAz/+l//L/LAA9AGAASgDb/5X/n//k/20AfwAVAPD/KQBHADMAFQAzADMA+//3/6//ff/i/xQAxv/Q//v/2//X/+T/xP8BAG0ALgDg/9L/KQBLAB4AEgADAGAAnABwAHMA5ADOAIoAOgDa/yAAhwCBADcAMgAuAOz/v/+2/7f/4f87AE0A9P/Q/6r/o/+J/2r/Xf+I/5v/O/8o/1j/yv8bAEgATgAgAAgACgAFAPX/5f/X/7X/fv9s/6b/5f/O/8D/AAAVABYAVgClAIsAZABJADQAAwD//y8AEwDM/6n//v9KAFYALwAIADYApQCjAHIABQC6/5j/cv9//23/kv/S/xEADwD4/wgAJABCADcACAD9//f/+P8VAC8AJAATACEA8/+3/9P/4f+j/6L/GwBrAHYArACdAG0AIADc/8D/rv/Y/97/AwAjADAAbwCQAG8AOgAYAAwA2v+W/8f/HQBBABMAvv/L/+v/vv9//3v/cf+F/+T/UACOAKQAqwBXAN3/Sf8S/0n/bP/C/wQA6v/Z/w8ANQApACcA7f+O/1X/e/+o/9v/AAD0/wwAJgDZ/0f/Of+q/wcAOwB8AJQAbQBCAEYANgAwAAMAtf+Q/2n/SP+H//r/PwB3AKQAdwAmAD4AVQBoAHMAWQD///P/FAAeADcALAAuAFkAngCWAGEAGQDv//T/BQBmAIYA/f94/z7/e//Q/7f/hv9h/2//iv+z/9j/3P8KABoA3P+P/3j/f//Q/yQAKgARAOj/3//l/wYARQB0AGcAOAAcACkAWABdAEEAGQD1/7T/gv+g/7f/1f8iAF4ALAAcAFEALQAlAFUATwAUAOr/3/+J/1D/if/W/8z/CABuADoABwDQ/3b/bv/S/ysAUwBmADUA8v/m/+f/z//B/8r/rv+U/5D/g//k/4wAlABUACkAGwAdAPf/EQAiABoAJwAgABcAgADHAIYARgBNAD4AMgBcADIAAgAdAAAA6v8WAOL/3f/N/wAAQQAdAN//mf98/4v/r/+h/7T/oP+5//f/+P/u/yAAHADg/97/HwAFAML/9v8nAFUAbwBVABYADAAbAOj/mf+0/9P/7v/z//T/KgASAPr/qv+2//3/DQAAAP//DAA/AGYA2v+p/93/LgAzAOP/r//e/zcAZgBbADMANwAVAOr/0P/8/xcA+//Q/+z/8f/j/6v/S/9t//r/SgAVAPj/HACBAJ4AfQAVAPr/6v/a//L/zf8BAAYA+f88AFIAOwA+AOX/mv/b/ykAYABTADAAAAC8/6L/mP+P/9z//f/6/1EAPwAGAP3/SgBkADkAAwD5/zcALQAQAPv/CAAdAA8A5/8fAEoALwAkAP3/SQCXAGAAUAApAAUAq/9V/4P/w/+y/9T//f+3/+D/u/+g/9X/zP+r/3X/qv/y//L/EgAVAA4AEwDg/+H/vv+b/+n/JgAdANj/sP+q/6f/wv+z/5r/7P88ADIAPwBYAEQA7//T/zYAfgCVAKcAmAByAG8ASgA7AHMAfQBZAFUAdACMAGwAWwCPALAAhAByAIAAMwAiACEA8P+k/7D/7//q//z/7v/C/3T/Tv9e/2j/qv/c/6b/ZP9g/4f/r/+4/5v/lv+R/5z/nv+j/9r/4f/C/7z/8/8wADEABAAaAFMASAAxACkAOwAqABwALgAeAC8AQQA/ADAAHQAIAAMACwAoAD0AGwANABYASQA2AB0AUABjAFIAUwAqAOX/8P8EAAAA/v8ZAB4AQQBbACoA9v/r/wUACgAAAAIApv8f//v+OP9//5f/4f8qABMAt/+j/+b/GQDx/8z/0//d//D/8P8hACEAFgAVADoAOQDW/7j/3f82AF8AcwCXAFwACAD6/x8AIgD2/wMAIAAWAPr/IABnAF8AYACZAKMATgDW/5r/p/+3/8D/6f8lAAYAGwB4AFsADwDc//z/EwDv/xYAWABKAM3/mf+i/3D/G//d/kL/5P89ADYABADf/wYAEADR/7j/1P8AAN//mv+s/6j/w/8bABEAHQBQAHoAVAAKACgAQAAoAEUATQA/AAAA/P8tABkAEgAOAPz/w//P/1IAvwCmAGgARAAtAN//mv++/9f/wf/o/zcAQwAwACEA9P/s/wYARgB6ABEA0v+q/1f/WP+Z//r/0f+m/9z/xf+T/2X/nP/A/73/3f/9/xEAAAAYADQAJAACABYAJgAAANH/JQCOAI0AcABuAGsAAQDd/zIAQQAPACkAaQA+ACcAYQAkANb/8/9PAFgACgD+//r/p/97/8D/CwDK/5b/yv+x/4H/Vv9t/4H/s/8UAE8AfQBRACMAFQDa/6f/3P/6/+j/7v/f/9D/3P/y//z/5v+m/77/7f/l/xsARgA0AEIASQBTACkA9v/8/+n/s/96/6X/tf/T/0oAoQBpACoAhAC5AJkASAABAAQACAAOADoAUQA9AB8A7P+m/7b/FAANAM//7f84AGcAPQAPADEAGwDY/6z/k/+s/8D/x/+9/77/GABLAA0AyP+n/7j/tP98/4f/vf/G/8z/9P8hABEA6f/L/7z/wP/m/ysABADi/ysANgDb/7D/EQBgACEA7v8SADYA+f/X/zwAewCNAJgAjQBLABQABgDF/5v/5/84ABkAxf/F/3gAtgAcAK7//P9IAOz/s//V/+L/HwA6AN7/o/+5//D/sf+E/97/OQDv/4P/2f9rAGMA5//i/xUABgCq/1z/hf/i/y8AVgB3AIoAcQBaACYA4f86AKsAqwBOAAUAMAAIAMf/4f8jAA0A0f/P/9f/3v/5/zYAawCEAFIAAwCj/2P/g/+r/3f/XP+e/7T/zP8pAIsATAAiADwAIgAOAAEAEAACANz/6/8lAAsA3/+0/6D/mP+g/6z/z/8gAFQARgAKAAQAGwBCANH/fP+x/+b/zf+//8b/4P8VAFcAewBZAEIA7v/2////JwAsACUAIwA0AHcAbAAZAMb/u/+u/+j/AQA5AGoAawAxAN7/zf8uAGIAIADZ/3T/av+G/57/wf8VAGMAngBuABwA8f8QABIACwAlACgALwDl/7T/wf/8/+b/4//Q/8j/wf/u/0MALwBJAFIARQApAOr/hf9g/1j/Xf+//yIAAgDy/zoAVABLAB0A8v/4/0UAZwA+AP7/9P8NACcAFQD2/wUA6P+u/3L/V/+1/wMA5f/b/+f/CwAcAAMA+v/L/4b/nf/d/0UAcQANAP7/LAArAN//g/9U/0X/n//q/+T/NwDRAO0AdgBeAHkAFgDi/xoAEQAPAFsAUAD2/8X/+v86ADwAOwA9AAsA+v/1/8T/2P8eAIAArgChAH0APwAaABcAAAD+//z/3//1/0IAQAC8/1v/Pf9l/2v/Sf8g/x3/bf+//+n/5f/m/4f/HP88/5r/nP+u/9f/AgBQAGEAQADm/9r/BgA2AFgAPQAZAAgADwAxACkA/f/O//v/RABfAG4AJQAAACoAcADLACcBNwEfASQB7wAZAED/CP9N/+3/cACCAEMAHABYAKYAegAAAL3/uv8hAGMAEgAkACQAAQAeABwAwv+N/4r/b/9r/1r/Pf8T/1r/zv/l/3L/V/9r/0r/m//h/77/Yf9b/5r/IAB1AJwAWwAHAP7/6/8BALr/hf+h/zwAwADYAJQAVAB/AHcAJQCr/57/zv8DAHIAlQB0AH8AYQBFAEgAKwALACYAlQAHAR0BvgBHAL3/k/+7/9v/5/+8/8b/3P/6/xYA4/+u/9X/GABhAGkAFgDI/1r/Lf9H/2T/uf8YACsADgCX/2X/fv9j/7H/+v8AAOP/uP/j/zgAQgD7/3b/Xf+0/+f/OgCSAKQAmgBuACQAFAAAANX/i/9J/63/EAAtAEoATgBQACoA1f/w/2AAYABjADQACAA2ADUAYQCMAEMA8v9GAL4A6AAbAQABcAAGACEAfwCoAHUAAACw/8D/o/+Z/5j/gP+e/8//OgBfAEgARwAQAOv/vf+R/4T/l//g/wYAyf86/zD/kf+C/3n/pv+4/9L/EgDv/3T/hf/Q//P/CQApADcAKAAUAM//2/8YADYAHAD//zsATAADAI7///7c/lH/qv/F/7P/0/9SAFcACQAtAMj/lv9fAIMABgDJ/9v/OADIAOcAsQBKANf/kv+3/yoAfACxAO0AzQCfADQBaAHLAIQAyADoALIAbgCFAOUAJgHkAGcA7P+5/wwAHgCS/yn/Kf9b/+L/CQAGAAUA5P/r/zAAHgBt/z7/iP+F/0r/R/9F/yT/RP+m/8P/gv8c/8b+3v5s/xYAOACi/1n/c/9r/xf/cP5i/vH+rP/s/6z/hP/F//v/KwAQAJ3/tf/q/9j/vP+3/0T/S//p/3QAEAE2AbEATAAyAIEA5gDNAOwA1wDnADsBRQHaAGEAmADWAN8A5QDCAM8AWAGVAWABxABiAHcAQAAnAPX/z//0/zIAUgASAD8AQwA6AHEAfABoAAQAif8s/x3/cf+r/1D/Pv93/6X/fP8D/9L+7v5D/6f/vv97/xb/9f4t//X+3/7c/vL+Sv9m/3D/Yv+8/w4ADgAtAAAA0v+F/93+E/+R/5j/fP+W/x0AgQC4AKkANQD4/wEARwCWAJYAowCJAH8AmADu/3z/zv8xAFQAJgBmAI8AuAD2ANgAvADfAAoBxQBSACcA9f+l//n/iADAANQAngBAAJMA9ACwADIAIQArAE0AfAB9AHkACgBpANEAUwDm//D//v8JAAcAp/+k/zUATQADAOb/jf9x/1z/Pf8V/wb/Wv+D/6P/1P/M/6b/if+Q/2//E/9E/2//a/+d/4X/T/9e/4z/tf/U/8r/rP+A/6v/4//A/5H/xf8LAPD/AwDS/43/zv/P/5T/mf///5sAzwC3AFkACQD+/wcARABAAEwAfwBTAEkAmQBuAC0ADAAAAD8AjgDNAIYAswBBAQ0BjwA+AAAABgBRAGkADwCq//L/mgDbAF0Aov+O//H/ZACCANX/Wf9U/6D/6f/L/5j/uf8oAPD/fP+f/+T/4v/F/3j/Ev8m/5b/tf9W/0L/H//J/tL+Sv/T/8L/cv9e/8T/hQDfAEMABgAZAPP/DwBsAEUAn/8e/xv/1/8qADYASADQAHoBZAFrAegBjQFbAHL/wv/rAIsBogAi/yf/7f+oAJEACgAfAHQBWAIGAmABtgB4AHr/f/4v/gcA+gCy/in8pP/aB2IIBf4D9fb5qwb3CZj84e7P83IFYwwZAFzxpvT4BB4LNv/18/T6XwoyDc3+RfP9+jkNXw/c+2nsmvduDqsR3f2c7Ef1dw3pFPQA0e3G9NcKpREOAh3yi/XhBUYN+wJD9Yz1zAE/CcMDpvqG+fEA2AaOBOv9avtPAPYF7ATP/7f9igC0A9cDyAHT/sn9vf9jAksD/gBT/Qj9tQFaBYkC1fs8+eD9/QNIA5/8Y/l1/t8FYgVx/kL69/x2AoYDCv7x+E77zQGXA3P/iPu4/JIBOQTwAZH9r/y/AF8DcgDJ/Eb9vP8NAOX+7f0J/mj/fQAMAE7/hwB7AvgA8f6x/1EAcP/s/or/6v8EAMsAdQAZ/uf95ACBApz/Bf0X/vsBDAYmBVH/fvw9AbMGsARU/n/8LQBnBAAEvf9e/fEAbAarBFX9oPuLAVgGFwRN/ur75f/aBUgGygDy+9P9jwOmBND/RfuV+on8hv6i/Wv6FPmw+5H+Df5N/C78l/0l/r/9ovyz+lj69v5vBjAH3wDG/0cHmQ0QDV4H6ABs/xQDoAPq/PT1UPdo/UsASv8d/mYAOApkFogUnQX6/dwDAwj/AN/zpul16NHuvPMY8aTrAezw7zzyrPQ39unxQ+z37pz3TQDWDbobnRlaE1kfrzHjMNgekgysAmECuAcMBRL16OqF8rf98gJsCJ0NLQ38C+cPrBH5C78Duvpi8KPsvfPC/Jj5qOwX6wL6JQZiBOH5NfDu8FH7NgKy/ILyZO8/8wL1ZfNS8kbwVOq75rXsMfRZ8X/oduP06YgF7Sl6MngdGBfqLgFFakDOIYL4XeTK8yMKCAfj8WTnMu+UAHcYeCh9Hi0KfAa/DpcPLQbU9QniRNhH4lvwnPYpAoULsP4I9M0BxQuo/dzn9tiA1qLnCgNrCzf5r+vt80r/AgSkA471ouGy4Z3zB/pn7u3kwePc6qkPJEaBU342ZyumPRdLZ0MXIajsbM2B3Nn97gk6/zrzLvBI/zAjVDt6KMj/MuZ944/safKh6OrQV8Rp390QpSKwDGv4YvgrApIKpgDw4QHL39FL62n/bASi/YPyLfBr/cMMCQt39kLgrdn/4m7uKu/C4vrYfO6xKtNfgF+4Q/M5jD3MPmA0FQ7q27DHXtk9+IoQNRphEtwB8QIJHdQxcyhWBhveI8aJzfjlr/Dj5tHdo+YK/xobaivIHpD7hOSF5ALmf+Mx4LPUE9Bf6SMNTB1pGqgP+QHw+Ar7Uvv/64zbdtgu2R/bYum7/HsC9wfpKBBUd2CPUbxBpzBpHeEOt/n33Y/UfeF48rwEhRrZIjEXMw1zEisZkROvAhLplcvpvODLG+nr+iX+4wHyEB0hSCKwFhwCcujZ1qfLLMW+z87jmfO6B5IdJiOSGncPpwJ79crs/OPu1znSj9bO35DtnvvxAGwH1iiHWfZo31NwOzkj8g7QBZX0Otqh0F7dG/VfEv8s/THQGV//hfvNBNcKwQVI7+zQFsRN06rwCwzDGDUNI/mC9r8L4yjeKvQF9NdiuTS6ANy591r33/I5+Q4KpyTuNxUr0P3R0ZDBH8ee2AXqNejZ3PnhLPP+BEYn51oocolYuzMNGwMP2xJBDmHsmsvHy2DnthDQO7RODDiQDwr4yvb2AjsMjP2p2Ve6wLVK0vgC0iz4NVoWFetw2xPuhhI8KCYOYNIOpweu1d0HCbQSmAXO8pLwIRCdNCYykwui2rKvaKcHz+/6wgUiAdL4jukC6yMOUkK2aNRlcT/9FBwC/w2jG/MOJu8h0HLIz+e2IBFO41KgMbAC9uTx6m8BxAfB9n3TirKdt3nnDSM3R3k+eBVa61nTntxuAtcYBP+4ztiyaLwe6IgZFCuIGxoEX/ieAd8RnxMf/8rTd61pr/7NKPCJD1wc8Qsy8+7v3BIhT5N1k2hqOukLpfWk+WsFnwd09djactmf+TgmTElwTXUplPf03K3cuOQU7QPtxNr9yJnVI/zSI/U9SDsSE3PdDr/vxgbqWAU+/WDhM80hzlLulBgbK1gnnhO89SHoMfPE/c70dNwcxmXDG9r0/JkWjRu8Df74LPBNCnY+DmAMYGNJHSTTB0UEbAguAhTxE+Ga4UD6EiIUQLg/YSUxCRb3VOq34/rk8OAi1FfR2+CY+6MaPjBNLOwOwOmtzDy5OMDJ6AgFdAAp9rHqPuk6BAQfgh89EUv9hOmJ50L1cfqt8ijnzdqC18/oSQXEFeUQx/sz3q/WhAKOQSRoz3OUXzsxRBDJAC/uCeNR3o7Xg+NtA+MgdzZcQJg0KBnO/Z7nWdfd0P3PGM9t1UHodQPEH8Ez0jEsFXntk8mptgfIxel09gD7bQNi/kv8tg5sGIMSVQ7TAMXqkeK55i/tGfRM9bvxs/Fd97P/sALc+DjlRdjJ7Fsi2VINbGJvfFTrK5QQZ/lZ30TSxtDV08Dl0gLKHTg1Mj/gM+cepwbk6sfWmc0YxarBxdEI8DoO1SlXOw0zLhRi8K3MwLUywf7h9/mHBUMHNf8Z/wEOrBd2FMANMv6u6ezlV+3Q8ab35vdf7jnqQ/J++qz5K/Oz5avdEvg9KRZPJ2bTaZlQdy5lFYP5VNxPz/fJYspc4S8E6yLbOytDAzQ5HKoG0/Gi3aXO9sFyvLTM7uxxD3UvUD60MLESFPKb1PnCysDhzbTnwP8VDUoSzBAYENETohUKE6QFb+9p4BDdn+TV9ycHzQPu+bn2cPTr8MPuzOR+1GLVoPSjIolPlHTgexhhWT1CFLHlFchKvL+3csfq6mIObS2sRHFGtjY3JV0Qr/Sn3QbNcL3KuPPGCOR6Cgwvq0AbNwsb3PhZ2afHCMOGxtXb/fnoBx0N+RfJHi0krilpGvr6hOLk0GTKkdqM9VkOmSB4IksT9/xc577X2M2jxgDDR888+eI04mX/fwt/EGBpMewAJ9SOtxGvKLbDz+H0axgAM5Y+iD6xNzEqsRaU/LvfUsbasxyyM8Z96QcSoDIWPy003xo4AB7ruN211vHRJdHb3sz51A/nINowjTE3JfcTgfax1w/MeM983nj7bhedJRAm5RRm9dfa9c0gyqnQC9z63o/pEg9dOaBahHe3d3ZRlx/K7X7CC7Llu7vMc+L//AwTIyYsNsI8EjpmLN0SQPVg3O7Jwb2wwZfVTO1PCVYkjS4tKHoZ4QOH7RTgq9hT1TrYTN9d8hwMox0vLDgybydbFqj+SuMg0xnQq9hS7nAIoRiqG4kSwP/B8C3rTemN6WnpxeON2PTZ0PdbIIBHFGrxbAxPbSgF+DPKj7svxdfYi/teHjYqGCWaGG0GAf4eCH0TahTXDgz9TuF/0ibWxOO1/PwU/xg/Dpb+Sutf4F7mi/Ln/fAIFAuvAQv8n/+2AVEGDxAwDTEA8vZm6KDb1eHM75YA4xY9IM8W9Qd/9r/mOOKT5/HvHPXt9NntD+Ob6FkCZSA+QD5VJ1DCOswYzfB72mDZKuMa+EgNQBAvB+T6fOqU5lT4RxIpK6I5pDR5HOH6ON5NzAXKFdij6hH85gdRBgD95vaK9+H9jgkkFMsSKQZJ9crnMuQ47Jv9uA1BEywP2QIr9V7usO7G+AEJHhMvFb4QcQN584Lrjutm76j1XvhV8zXoDeLq6mT7JBGILr5CoUbGQAEqTgmC73Pc4NYw5K/1TwM0DJ0IPfwC9Zr3hQOAFpAnsS00JVwQUPZ53STOoczU1ETmtvrpBu4L7QnD/1b2cfOs9Gf4v//9BnAJrAl/CL0FBgSmAwcE8gHD/JH5efiI+f39qwGLA+sDcAGr/DT5M/pk/IgAyQWNAaT3f+7S4bHbz+IM8AsFHx6ML8Y4hzmbLakabwfH9WvsB+0G8wz8AAHlAKH/zPnN9Yb5ZP69B/kUxRmXFjgPGwFO8d7ne+Jx4NfmcO488eTzU/Pq7q7uw/RU/6UNixy7JDEkeB8PFV4F0ffl7D7leuYS7SDzxPthBjUMNhAhFGYQDwlWA0b6XvPs8yH2Zvhl+e70e+rS393bOeBp790IgyLVNuBDbEGyMMcdewoa+Xn0Xvik/LUDfAYf/3j1CetX4Z/fRufg9kMKxhvpJZYjDBYWAmPr1Nh/0C7SSdtb6ef2ef9RBM0ETwGB/0gA6ALrCRESOxaeFTkRQwmFAAj6f/T/8EDx+PP6+VgCPAiOCq0HegC++pj3I/fS+lgA4gVuCz8MnQUU/B3xmuVX4QXn/fNtB4MbWCrPMfkvLieIG1wPKAXm/Q36Pfra+5P9yv6M/UX6a/ZB8oPvG/Dm8rX3pf3rAU0DqgL+/+v74/jH9nb0HvJx7wDtZO3k8ZD5AgJ5CNwM2g8TEG4OtwwtCZwCy/vD96H2n/ek+gX/6QKABc4G0AXFAmH+KPrB9672C/ia++f9Rf7J/If5ZvcX9zf5EP7oAU8D+ALuAAz/GAA8BagN9RZGHmUhpx5/FloM5wKE+0X4/vjW+z4AbwNUBFgE/AAs+l305O9J7JzsHPDd8yz5lv/9BEwJ0AmEBYH/8viO9Nv1vvpwAOQFYQgWB1kDm/5z+4n7Yv4TA38IfAsxDFQLRgfrAc39K/vV+gP84fve+ur49fWp9A31lPWw9sr3nfis+aP6yfzDALkD9wT3BVoE8AAc/8j91fwn/sf/uADCAQ4C4wLVBZkJqw2FEjUV/RSKEmgMggSO/aT4FPfm9/v41fnr+fL4aviq+Zn8fQAMBN0F6QTqAZ3+9PuC+sn6LPzg/Wv/dwBjAT4C0AKFAv4B7wCH/7f/ywF8BEUHAwrbCm8I9QL1+wH1zu8h7s/vV/To+vv/AgKtAZf+UPp59wH2H/de+/f/yQNbBowGBQXaA9ICMQKIAgoDkQMvBEcE4wODAwkDVwOwAzEEiQUdBpAFyQSXA38BcP8r/an6ivnw+R37Nv3P/6QBuwKpAugAff4f/GX7jvyI/gYBQwNyBEIESAP3Af0AxQAbAXEBaQFnAA//If63/Bj85fw6/jf/4/8iAGb/VP5p/SH8/frW+oX6efqu+vn5wvjx9z34kfnW++/+WQGPA2gFYgW8BOIDXgO9A9kEQgZAB4kHlgcWB+MFxQPYAKr+Rv0F/XH9qf4DAOwAfwLVA8YD8AJdAuYBwQG2AZ8BVgElAOf9/vtw+1P80f6SAYgDrQREBF4CSQCW/rf93f3S/ar9kv2C/Df7/fke+Az2JPVd9cf2OvkJ/DD/2AG6AxYF6gUKBvAFRAVNBPoCFQFr/xT+/fyM/GT9CP/SAGkC/wMVBW8FIAXdBMkEHARVA4gC3QH8AWEC2gJHAzoCPQDB/a776fq0+kj7f/xa/eb9Ev6Q/Xf9Zv0e/XL9Yf5N/+n/GADA/7j/AQAuAKgANgEWASgBRwGAAMH/YP89/3v/y//j/3IALQGgAewB3AFpAbsAvQBeAUsCCwNZAzsDxwLMAtoCUQK+AWwB4gB+AFMAJAA/AEEAgP+i/sP99vx7/Tz+4v61/63/G/+0/lH+DP5a/p7+w/4O/+j+bf5G/vP9HP3m/GD9h/6h/5//d//p/tf9Q/1U/Z79Cv6+/sj/PQDh/wAAMQBv/8f+Cv9e/7X/nwCjAXoCJgNEAyMDvQLxAawBowFYAW0BgQHEAfcBqQGCAVQB0gCQAC4BhwFKAbIBXAKBAksCBAK1ATABiwCDALMAlACZAF0Ac/94/vv9Fv6S/vr+gf8kANf/uv5R/hb+sv26/S/+yP5W/7f/LgBTAOP/lP/5/iL+zv37/fb9W/60/s3+Of9P//3+3/7R/pr+pP5j/kL+rf6d/8sABwLoAhADoAJ5AXwA2f96/8H/XAD5AJMBoQFXAQ8BEwAe/0L/Pf/9/oX/KwCEANIAQQGdAXQBGAFOAUYBmgDi/2P/B/+G/kz+sv6W/4IATwGyAUAB2AAAAdkASABaAN0A1gCgAEcACwAWAOL/p/9C/5v+TP5Q/r39l/1y/mT/awB6ARUCGQKlAZEAuP97/3L/CwDsAOcAWQDx/5H/M//2/sr+7v6D/+r/xv/i/1sArgDHANEA8wCcAG8ANwCO/z//SP9R/yH/7P4a/zj/6/7K/nT/PQCJAA0BLwGlAFgAXQBpAPH/vf8iABoAZ//2/mf/xP/C/8b/8P/D/57/8v9vALQAHgF9Ad4A7f+Y/6z/zv8sAHUAlwBEAND/sv/r/0EArgBNAWkBMgEHAbcAFwBu/87+wv5I/17/f//c/wgAIwBGABoATf/J/lP/NACAAHAAygATAcYANQDG/4//PP/8/t/+g/5V/r7+Rf/Z/4cA4gABAegAVAAtAIAAXQAkAEsAGADL/x8AWQA0ABgAAQBb/4/+xf6N//L/MwDjAHMBSAHeAK4AhgAiAP7/QQBOABwAEgCDAKkAXQAyABYAyf9i/yz/Av8d/2f/sP+2/5//x//h/5j/ev90/23/nP+E/3//p//E//b/YQB5ABgAxv+X/2T/LP9j/9P/GgARAEMA/ACaAWoBAAG7AC0Ao/9V/5P/yf/3/y8ACAC7/53/sP+o/2f/e/8aALsAGAFuAQICHwJ7Ad0AVABl/9r+tv5z/nz+1/5+/wYAQwBoAKcA3wC4AH4ARQDp/9X/+f+v/5D/0/8OAOX/e/99/7H/ff8S/z7/7f+hAAUBNAH8AMwA1wB6APb/Tv/b/uL+3v7R/i//6P+RAO8AGwH/AIcAHgDO/5f/hv+W/wEAUgAlANL/iP8r/y3/gv/q/0wAgQCsALIAswCzAKoAdwA2AOv/rP9o/xb/8f4V/3L/bv+z/zoAdwBOABMA/P/G/9v/uf+A/6T/7f8XAOP/qf/p/y4A1v9X/0X/p////1gAzAAUAS0BKAGgALX/1P6i/vj+Y/8uAL4AIwGBAWwBSgGRAYMBEQFqAOL/v//3/0UAWgBRAFYAngCFAB4Awv/P/ygAXQAxAJr/cv/Q/xMAJAAeAEMAPwCu/8D+OP5w/q7+Jv/W/ycAZQCsAD8ASf+d/oH+nP6k/hb/m/+4/8//zP/B/9n/z/+D/0b/Ov9P/4n/kf+H/7b/GgBWAAkAvv/+/zoACwAbAGwAugDxAOUAygCxANEA4ACCABAAGABXAHkAlgChAL0A3gAPARQB1gCXAJoAngBXAOr/xv9BAJsApQDFAPQA7AB/AL//Nf8Z/1b/1/8gAFAAVQBGAPD/d/+G/6P/gf9//8P/5f8rAFUANQBBACYAof8e/+n+0f4V/1z/Kf/c/h7/ev+U/9j/CAAdAPn/jf/6/sn+Av9Q/8b/AQAsADAAz/9q/0P/U/9j/4H/nv/c/zkAvQD5AGgAGQAbAO//u/+5//n/IwA6AJUA6QD+ABwB6QCPAFoAFADI/9X/BgBiAJYAfABxABgA//9EAHcAcQBCAD8AagB0AJkA3QDeAM8AlgAAAHb/pP8kAEUA+P/B//n/OQB6ALIArwChAFEAqf9O/0H/pf/X/6n/zP8yAHsAXgAXAMX/jv9u/3b/U/9r/+D/CgDo/9D/zv+B//j+k/5s/tL+if+f/43/5v9eAKgAkQAmANf/0v+h/yX/xv7T/mL/+f/u/7L/3P8nADwA/f/K/9r/CgAwADIAagCRANgAnwAIADgAdQCDAFgAIAD2/+P/lgAwAckAuwAyAQsBmgBQADQAMgBUAF4A9v/t/04APgDd/7L/6P8AAN//rv/K/2IAogB3AFoAdQB0ABsAsf8a/8T+FP+C/8f/xv/g/x0A4f+M/2n/fv+y/2D/sv6V/iP/HgCTAGgAVwBLAEcACgCt/6j/6//Z/6P/nP/7/24AvwCUAAEAAAAKAMz/xP/w/yIAeQCvAK8AtgA2AZkBJQGPADUACADh/6j/hv+8/wAAJQAyAN3/cf89/2n/dv9p/8b/9v/k/+r/IQBqAHQAVAAeANr/5P/y/4r/QP9//9//9f+t/5r/o//Y//n/xP/P/+f/IABWAB8AEwBQAEsAEgCY/z3/Mf9s/4f/ef/X/zoAdwCcAIQAUwBwAHMAIgA3AHAAZgBKACMATgB4AGEALADD/2r/if///1IAcgC9APcA4ADbAMYAmQBQACkAyf8r/wr/OP99/6//1f///xkA9P/D/9T/BwAwAD8AVABRAFUAfwCUAHcAWQApAMH/Z/8l/2z/CgD+/9b/7//o/+3/2f/I/9X/0P92/3b/4P8xAH4ATwASAN3/uv/u/+3/tf/C/x4APAAsAEIAXQBYAEMAGQDD/2z/UP90/4z/kf+b/9z/7v8AACEA/P////D/2P/V/9z/7v/t/ywAcACCAHkAKQDl/4j/e//b/y0AYQCCAKcAegA2AB8AIwD8/8z/vv+V/4j/+v98AMcA/AApAQoBZQAiABQALAA0ABMAEQD8/wwALgD4/8T/y/+n/5D/Sv9S/6X/7f8DACsAeQCWAIQA+f+U/7r/zv+F/1X/Vf+H//T/eAC4AHgA6f9r/y3/Of92/7z/BwA0AFAATwBWAIwAQgB2/yT/Y/+i/5z/ff/V/3kAuABhAO//4P/i/7r/dP9n/8r/GABCAEwAWgDSABABlgC6/07/Kf8k/2n/jv+9/wcAKgBbAKEAmgBEAMP/Tf84/3j/1f80AC0AAAAgAGoATADi/7r/of+S/4v/yf9BANwAJwEmAdIAXwAAAJL/Rf8D/1f/w/9OALcA0gCcAJ0AyACmAKIAZAAtAB4ACADc/z0AuwCiAC4A2//s/wMAoP8F//n+Pf/O/5sADAETAf0AkwD8/zn/vv6t/sb+vf74/u7/PQAXANn/oP+K/1L/Jv8Y/93+4v5I/7v/5/8tAIEAFADE/13/Jf/7/r/+z/4Q/7D/QwCEAHkAmQBiANL/g/9y/4D/DwCoACUBfQFuAUkBAAHLAG0A9f+W/5H/af+O/ykA6QChARwCSgLaATsBswBdAC4AZABhAGgAlACaANUAmAAAAJn/mv+1/8D//v9GAHsAtQCrAIUADQB5/1H/Ef+y/oD+gf54/r/+I/9+/+3/MABiAFQA8/97/1H/UP+A/7z/zv/U/8X/zv/E/77/VP8H/zT/P/8o/37/XAC2ALYAbwDs/2X/Uf+k/+j/AwDO/7f/sP/c/2MA5wDNAI8AJAC6/6f/hf+q/yYAgwBcAEoAbgCyAP4A0AAoANr/AgBjALEAEwFSASkBBwF4AOb/Sv8z/3T/lf/N/9X/AABHAOAAWwFGAc4AWgCd/yn/Df8u/63/4f/k/+H/CQD4/0UAjwCZAGMA3/9y/4v/DQBBAG8AUAAIALn/j/85/0//rv/J/+L/zf/R/wEANQA3AG0ARQD2/9j/df8z/1T/QP+D////GQAYAB4AOAAEAOT/2f/I/5//rP/w/zMAewCnAGEA5/+K/4D/jv+t/wUAUgBoAEAASgAqABUAFwBHAFsADQCY/5j/9/81AGwAUwAqAOL//P8IAAgAQQAJAMv/6v8UAHEApACBAKIAPgCT/27/kf+H/9f/9v+w////VgAaAD4AWgAGANf/SP8Y/1P/mP/+/4UAkQCTAGAA5f8IAE0ANAC0/4j/lv+z/wQAegC4AO0AfQDA/4P/hv/G/xEAVgBiAFsAUwBgAD4AGgDq/7j/kv+T/5//rP8tAHcAiQCNAJMAfgA3ACQAOgD+/2L/Wv9z/1n/n/8gAF0APQAhAPf/of+O/9//KgAGANv/EwDt/+v/GAD1/6H/i/+R/0T/Yf/f/2wAmABzAH0AYwDv/4D/ZP+n/9//1v/g//D/IwCtAPwAyAB/AFMA6//G/0sAmABpACMA4f/X/wMA9/8QAAkAw/+u/9P/IgBkAJUAdQA+AC8AHQDc/2r/fP/f//f/m/9//83/7/8IACwAXQCQAGUA3f+r/4v/zv/y/2T/VP+d//H/VwCVAJQARwD6/8v/3f/x/ykA4gAwAYgAAgApALv/VP9g/2//UP9h/yAAewCNAPYARAHJAB0A1//G/8X/m/+a/6b/q//p/ykADwDY/8T/8//s/6T/4/9RAF0AGAD0/wEAzv9C/xv/Kv8N/zb/ef9e/0v/n//6/wAA//82ACwAxf9j/0j/Rv9k/7X/CQBdAKUAzgC4AFIA/f/o//3/NQB0AKEAxQC7AHMATgBBAGcAggBaAB4ALgB5AKQAvwD6ADYBAgGlAEoAAQCk/4z/5P82AFQAfwCGAEEA9P/r/2MAmAAzAJz/iP+Q/2X/Yv+m/97/tv+e/3z/Nv8T/yv/Vf9q/3n/0f/W/0T/AP9A/xP/6P5A/2H/Jf+f/on+0/5r/wUAdACiAGkA4f9X/xP/+v5z//D/ZQBdACgAJAAwAEIAbQC3AH8AbgCOAN0AEAEAAdIAtwC8AK4AowBZAAMA2v8jAJoA4wA8AZUBnwFnAQsBZQD0/87/4v8OAEEAUAA/ADcAIgBDAFsAbAB5AHUAIAAKAAgA9f/K/7v/NAArAPf/o/88/0n/fP+I/9P/FwATAEkAPAD7/6X/Pf8I//T+Nv9l/2f/pf/v//7/8f+9/37/Zf8h/wP/F/9W/5H/n/+g/7D/m/87/0D/ZP8w/x3/VP9y/5z/xP/T/+3/HgAIAMr/7f8SACAA1f8VAMYAIAESAaEARABFAGsAVwAJABoA7QA7AV8BUQFGAWUBUwFGAUMBAgHEAGIAIgDKAC0BFQEmASQB6AD/ALcAZgABAAAAFADg/zUAgAAhAMr/vP+D/0n/9v40/3b/kv9//2P/dP/P/8T/Z/9a/zf/OP8a/9P+tv70/lP/av/+/v3+Wv9v/zr/+P5A/3T/UP95/8f/BgDb/7P/oP9Y/xX/N/+E/6z/FAAjAA4ARADUALoAJQDf////MgDq/9L/QQDUAAYBIQEiAdAAcQB7AF8AHgByALQAUQAuAJYA2ADxAPYAwAC2AIoAZQBsADYANAAkAEMAYwBoAHYApQBdAAMAQAA3AJ3/K/9i/47/v/8KACoABADr/6n/Y/9S/zz/YP96/z3/S/+S/8r/qv+R/97/vf94/2f/mP+T/6j/xv+5/4j/w/84ACUA+//N/6H/VP99/9v/GgA1ACsAGgD8/0cAcAA6AFQAZQA2ABoAPQB6AHsAfQCAAGUALgCz/zr/a//6/20AfwA9ADsAAwDy/9X/nf+6/xsAUQAZADIAOAAkAAMALQB1ACIAuv+N/4n/u//m//b/BgAJABYA8v+l/7f/LwCJAKwAnQB7AEQAEADr/7D/6P8kAA4A9P/Z/63/h/9//7b/DgAfAB4A//+s/8T/IgBLAJAAZwBAAA8Axv/j/9f/lv+G/8r/uP+z//P/VQBiAFgAdgBSANv/o//B/xEAiQDMAJ0A9f/W//D/z/+8//7//v8FAEoARQAaAFcAxwD4AKgACgCl/4L/AQB8AL0AtwBwAO//b/8y/yD/P/+K/woABQDx/xwAp/9k/7j/IwBpADEAsf8E/8z+WP/o/+b/7v8UAKj/nf7u/UH+4/6S/2UAzgBvAMz/X/+G/wAALQDy/6X/ef+E/1H/3f5k/1IA3AAeAaAA8f90/w//if/YANkBCwKzAU8B6QBOAKr/p/84AJgAwAC0ALoALQF7AUkBCQHSAKQAKgD+/ysArgAgAZMAggDFAGoAFADb/xIAhABVAO//r/+j/5//o/+R/7r/+/+Y/wr/mv7H/v3+tP7Y/o3/x/9o/yv/Jv+Z/6z/Qf8I/zH/Jf95/mL+Hv/R//7/2/+f/4f/Vf8H/xL/uf9jAG0AAADb/x4A2/+v/wcAaQBvAM7/IP9V/0MAwgCyANYAYAG8AREBPwAOAE0A4QBNATwBtgAsAM//8f/DAJcBuAEPAXAASAAkAOf/JgAzAf8BGwKHAY4A4/+C/z3/b//w/1MAkgBVAO//zv+u/5//FACeALQAKgCs/0X/8v5l/zgAdABFAP3/bv/V/k7+e/4y/+H/OwAxACcAGwCv/3T/qP/L/7T/S//e/qf+sf7W/k3/sP8wAF4Avf9B/0n/hf9f/1f/vP9VAFoAvv86/xb/BP/i/gz/Xv+///n/BgBNANIA7gChABcA7/9gALoATQDF/+v/RABfAHUAuwAAAVEBOAHkAMAAzACkALUAJwFWAQ8BDgExAdMAegDE/0T/Tf/D/4kA7ADgAPkAWgEvAZ4AEwC7/3X/5P6G/v3+3/9FADcADgCg/x7/8f4Q/2T/EQB6ABAA3//8//X/rf94/3X/Zv8J/0z+Hv6f/hr/V/+//xUAQwAMAM3/tv+O/yz/w/4a/6H/MgBhAEEA+v/w/xQA9P/m/9D/2v/r/xgAlgBqAZ4BWAERAXAA2//R/wgA+f9AALIAlgB8AIgAdQCOAGwAJQAcAAwArP+n/yUAvQANAbYARQApAA4Az/+O/1T/ef+K/47/zf/i//P/y/9y/5b/zP9V//H+Pf9z/7L///9LAN4AJwHIABQAg/8c/yr/Wf+z/0IAkgCuAIsAlwC+AGIACgAhABIA1f/D/9H/AABiAJ4AnABmABYA4P+C/xH/+/4+/7P/KACCAMYA0ABhAMn/mv+J/1r/fv+S/2f/yf8iAGkAugC5AKwAWAB+/6z+vf5Y/+H/fAAuAXsBGQFnAPT/yf/Z/8z/uP/3/0UAcQByAKMA/wAEAU4Ap/+K/3v/Tf8n/1//BgCyANcAmAAfAHv/zv52/qn+OP+m/8r/AAAaABUAQQBwAF4APQDG/x7/yP4e/7H/KwCzAAQBBwGIAA0Aw/+h/5L/r//t/z0AsQDRAKcAhwCFACIAqv90/6D/4v/w/+r/+P89AG0AjgBqADAAyP9Q//7+Hv/K/zYAaACgALsAhQBtAFgAFwDT/7z/qf+c/+D/OgBoAFEAaABTACMABgAXAAsA1f+w/3//yP9AAFYAfwCaAPf/W////i//ef+T/8v/EgAnAAMAz/+H/7f/vf+x/9j/6f/A/5X/l/+8/woAHgBRAIEAeAAkALj/pP+e/9z/LABAABcAEgA9AGYAeABWADkADgCq/4n/7f9LAJwA3wAoAQ0BbgAUAOP/iv9w/3T/j//K/9P/8f9LAHAATgBHAAgAnP9A/23/uP/A/+z/PgCXAKMAXwDd/7L/V/8Y/3L/7P9dAHAAngCjAJAATgC3/2v/cv9t/2D/pP/9/2cArADjAMcAYgD3/5b/\" type=\"audio/wav\" />\n",
       "                    Your browser does not support the audio element.\n",
       "                </audio>\n",
       "              "
      ],
      "text/plain": [
       "<IPython.lib.display.Audio object>"
      ]
     },
     "execution_count": 25,
     "metadata": {},
     "output_type": "execute_result"
    }
   ],
   "source": [
    "# Test \n",
    "\n",
    "inv_label_value = {v: k for k, v in label_value.items()}\n",
    "batch_index = np.random.choice(len(test_wav), size=1, replace=False)\n",
    "\n",
    "batch_xs = test_wav[batch_index]\n",
    "batch_ys = test_label[batch_index]\n",
    "y_pred_ = model_wav_skip(batch_xs, training=False)\n",
    "\n",
    "print(\"label : \", str(inv_label_value[batch_ys[0]]))\n",
    "\n",
    "ipd.Audio(batch_xs.reshape(8000,), rate=8000)"
   ]
  },
  {
   "cell_type": "code",
   "execution_count": 26,
   "metadata": {},
   "outputs": [
    {
     "name": "stdout",
     "output_type": "stream",
     "text": [
      "y_pred: go(Correct!)\n",
      "✅\n"
     ]
    }
   ],
   "source": [
    "if np.argmax(y_pred_) == batch_ys[0]:\n",
    "    print(\"y_pred: \" + str(inv_label_value[np.argmax(y_pred_)]) + '(Correct!)')\n",
    "else:\n",
    "    print(\"y_pred: \" + str(inv_label_value[np.argmax(y_pred_)]) + '(Incorrect!)')\n",
    "print(\"✅\")"
   ]
  },
  {
   "cell_type": "markdown",
   "metadata": {},
   "source": [
    "아주 클리어하게 go라고 선명히 들린다 :)   \n",
    "이로써 이번 프로젝트는 간단히 마무리 하겠다."
   ]
  },
  {
   "cell_type": "code",
   "execution_count": null,
   "metadata": {},
   "outputs": [],
   "source": []
  },
  {
   "cell_type": "markdown",
   "metadata": {},
   "source": [
    "# 회고:  \n",
    "### 1. **이번 프로젝트에서 어려웠던 점**   \n",
    "오디오 파일의 데이터 형태에 대한 이해가 가장 어려웠다. 표본화, 양자화, 부호화라는 용어도 그렇고, 주파수와 진폭 등 오디오 데이터 형태에 대해 잘 이해할 수가 없었다. 개인적이 바램으로는 이 노드에 대한 간략한 강의를 해주셨으면 한다. 어찌저찌하여 프로젝트를 완성하고 제출을 할수 있게되었지만 오디오 파일과 형태에 대한 이해를 더 하고 싶다는 생각이 들었다. \n",
    "   \n",
    "### 2. **프로젝트를 진행하면서 알아낸 점 혹은 아직 모호한 점**   \n",
    "앞서 언급했던 1번과 일맥상통한다. 오디오 데이터가 어떻게 이산화(digital)화 되는지에 이해를 했지만 그 값들이 어떤 의미를 가지는지 내포하는 의미에 대해서는 아직 이해를 하지 못했다. AI에도 자연어 처리, 오디오 등 다양한 분야가 있는데 나는 아직 내가 어떤 분야를 전공으로 공부하려는지 정하지 않았다. 그래서 오디오, 음성에 대한 부분도 열어두고 있다. 혹시 오디오가 내 전문 분야가 될수도 있으니 더 깊이 공부하고 이해하고 싶다.\n",
    "\n",
    "### 3. **루브릭 평가 지표를 맞추기 위해 시도한 것들**   \n",
    "1차원 음성데이터를 2차원 spectogram형태로 바꾸는데 오류가 있었다. 먼저는 코드에 대한 오류였고, 두번째는 메모리 부족으로 커널이 꺼지는 오류였다. 코드에 대한 오류는 고민하다가 팀원분의 도움을 받아 해결하였다. 하지만 코드를 실행할 때마다 dead kernel과 함께 인터넷이 꺼지는 현상이 발생하였다. 처음에는 인터넷이 문제인가(우분투에 와이파이 연결이 잘 안된다..) 싶었는데 동일한 증상을 겪는 사람들이 있는 것을 보고 메모리가 문제라는 것을 발견하였다. 해결책으로는 모든 데이터를 사용하지 않고, `[:10000]` 형태로 데이터셋 개수를 제한하니 잘 돌아갔다 :)\n",
    "\n",
    "   \n",
    "### 4. **만약에 루브릭 평가 관련 지표를 달성 하지 못했을 때, 이유에 관한 추정**    \n",
    "만약 루브릭 평가 관련 지표를 달성하지 못했다면 그 이유는 아마 3번에서 언급했던 2차원 spectogram으로 데이터를 변환하는데 이유가 있었을 것이라 생각한다. 사실 1,2,3,4번 모두 비슷하고 연관된 질문이라 생각하는데, 그 원인을 생각해보면 자기역량의 부족으로 노드에 대한 전체적인 이해가 부족하여 발생하는 것으로 생각한다.\n",
    "   \n",
    "### 5. **자기 다짐**   \n",
    "노드와 프로젝트를 진행할 수록 내가 발전하고 있음을 느낀다. 물론 지금도 무지무지 어렵지만 처음에 비해 많이 배웠고 발전했다. Aiffel 덕분에 다양한 경험을 하는것 같아 감사한 마음이다.(혼자 공부했다면 이렇게 많은 양의 데이터를 학습하지는 못했을 것이다.)   \n",
    "앞으로의 다짐은, 인공지능과 관련된 책을 구매하여 아침시간을 활용하여 학습할 예정이다. 파이썬을 공부하고 노드를 복습하는 것도 좋지만 인공지능에 대한 깊은 이해를 가져야 나중에 있을 다양한 노드와 팀프로젝트에서 아이디어와 진행방향에 대해 얘기할 수 있을것 같다.\n",
    "\n",
    "   "
   ]
  },
  {
   "cell_type": "code",
   "execution_count": null,
   "metadata": {},
   "outputs": [],
   "source": []
  }
 ],
 "metadata": {
  "kernelspec": {
   "display_name": "aiffel",
   "language": "python",
   "name": "aiffel"
  },
  "language_info": {
   "codemirror_mode": {
    "name": "ipython",
    "version": 3
   },
   "file_extension": ".py",
   "mimetype": "text/x-python",
   "name": "python",
   "nbconvert_exporter": "python",
   "pygments_lexer": "ipython3",
   "version": "3.7.6"
  }
 },
 "nbformat": 4,
 "nbformat_minor": 4
}
