{
 "cells": [
  {
   "cell_type": "markdown",
   "metadata": {},
   "source": [
    "# 8-9. 프로젝트 - Movielens 영화 추천 실습"
   ]
  },
  {
   "cell_type": "markdown",
   "metadata": {},
   "source": [
    "이번 프로젝트는 MNIST의 Movielens 데이터를 활용하여 영화 추천 서비스를 구동해보는 프로젝트이다.   \n",
    "아래와 같이 데이터를 다운로드하고, 디렉토리를 준비한다."
   ]
  },
  {
   "cell_type": "markdown",
   "metadata": {},
   "source": [
    "`$ wget http://files.grouplens.org/datasets/movielens/ml-1m.zip`   \n",
    "`$ mv ml-1m.zip ~/aiffel/recommendata_iu/data`   \n",
    "`$ cd ~/aiffel/recommendata_iu/data`   \n",
    "`$ unzip ml-1m.zip`"
   ]
  },
  {
   "cell_type": "markdown",
   "metadata": {},
   "source": [
    "## 1) 데이터 준비와 전처리"
   ]
  },
  {
   "cell_type": "code",
   "execution_count": 3,
   "metadata": {},
   "outputs": [],
   "source": [
    "import pandas as pd\n",
    "import os"
   ]
  },
  {
   "cell_type": "code",
   "execution_count": 4,
   "metadata": {},
   "outputs": [
    {
     "data": {
      "text/html": [
       "<div>\n",
       "<style scoped>\n",
       "    .dataframe tbody tr th:only-of-type {\n",
       "        vertical-align: middle;\n",
       "    }\n",
       "\n",
       "    .dataframe tbody tr th {\n",
       "        vertical-align: top;\n",
       "    }\n",
       "\n",
       "    .dataframe thead th {\n",
       "        text-align: right;\n",
       "    }\n",
       "</style>\n",
       "<table border=\"1\" class=\"dataframe\">\n",
       "  <thead>\n",
       "    <tr style=\"text-align: right;\">\n",
       "      <th></th>\n",
       "      <th>user_id</th>\n",
       "      <th>movie_id</th>\n",
       "      <th>rating</th>\n",
       "      <th>timestamp</th>\n",
       "    </tr>\n",
       "  </thead>\n",
       "  <tbody>\n",
       "    <tr>\n",
       "      <th>0</th>\n",
       "      <td>1</td>\n",
       "      <td>1193</td>\n",
       "      <td>5</td>\n",
       "      <td>978300760</td>\n",
       "    </tr>\n",
       "    <tr>\n",
       "      <th>1</th>\n",
       "      <td>1</td>\n",
       "      <td>661</td>\n",
       "      <td>3</td>\n",
       "      <td>978302109</td>\n",
       "    </tr>\n",
       "    <tr>\n",
       "      <th>2</th>\n",
       "      <td>1</td>\n",
       "      <td>914</td>\n",
       "      <td>3</td>\n",
       "      <td>978301968</td>\n",
       "    </tr>\n",
       "    <tr>\n",
       "      <th>3</th>\n",
       "      <td>1</td>\n",
       "      <td>3408</td>\n",
       "      <td>4</td>\n",
       "      <td>978300275</td>\n",
       "    </tr>\n",
       "    <tr>\n",
       "      <th>4</th>\n",
       "      <td>1</td>\n",
       "      <td>2355</td>\n",
       "      <td>5</td>\n",
       "      <td>978824291</td>\n",
       "    </tr>\n",
       "  </tbody>\n",
       "</table>\n",
       "</div>"
      ],
      "text/plain": [
       "   user_id  movie_id  rating  timestamp\n",
       "0        1      1193       5  978300760\n",
       "1        1       661       3  978302109\n",
       "2        1       914       3  978301968\n",
       "3        1      3408       4  978300275\n",
       "4        1      2355       5  978824291"
      ]
     },
     "execution_count": 4,
     "metadata": {},
     "output_type": "execute_result"
    }
   ],
   "source": [
    "rating_file_path=os.getenv('HOME') + '/aiffel/recommendata_iu/data/ml-1m/ratings.dat'\n",
    "ratings_cols = ['user_id', 'movie_id', 'rating', 'timestamp']\n",
    "ratings = pd.read_csv(rating_file_path, sep='::', names=ratings_cols, engine='python')\n",
    "orginal_data_size = len(ratings)\n",
    "ratings.head()"
   ]
  },
  {
   "cell_type": "code",
   "execution_count": 5,
   "metadata": {},
   "outputs": [
    {
     "data": {
      "text/plain": [
       "3706"
      ]
     },
     "execution_count": 5,
     "metadata": {},
     "output_type": "execute_result"
    }
   ],
   "source": [
    "ratings['movie_id'].nunique()"
   ]
  },
  {
   "cell_type": "markdown",
   "metadata": {},
   "source": [
    "**ratings** 파일을 확인해보네, ID, 영화_ID, rating, timestamp의 데이터를 가지고 있다. **timestamp**에 대해서는 구글링을 해봤는데 어떤걸 의미하는지 찾지 못했다.."
   ]
  },
  {
   "cell_type": "code",
   "execution_count": 6,
   "metadata": {},
   "outputs": [
    {
     "name": "stdout",
     "output_type": "stream",
     "text": [
      "orginal_data_size: 1000209, filtered_data_size: 836478\n",
      "Ratio of Remaining Data is 83.63%\n"
     ]
    }
   ],
   "source": [
    "# 3점 이상만 남깁니다.\n",
    "ratings = ratings[ratings['rating']>=3]\n",
    "filtered_data_size = len(ratings)\n",
    "\n",
    "print(f'orginal_data_size: {orginal_data_size}, filtered_data_size: {filtered_data_size}')\n",
    "print(f'Ratio of Remaining Data is {filtered_data_size / orginal_data_size:.2%}')\n"
   ]
  },
  {
   "cell_type": "markdown",
   "metadata": {},
   "source": [
    "**rating**이 3점 이상인 데이터들만 `ratings`라는 변수에 담아두고, formatting을 활용해서 데이터를 확인해본다."
   ]
  },
  {
   "cell_type": "code",
   "execution_count": 7,
   "metadata": {},
   "outputs": [],
   "source": [
    "# rating 컬럼의 이름을 count로 바꿉니다.\n",
    "ratings.rename(columns={'rating':'count'}, inplace=True)"
   ]
  },
  {
   "cell_type": "markdown",
   "metadata": {},
   "source": [
    "`pandas`의 `rename`을 사용하여 **rating** column 이름을 **count**로 바꿔준다. "
   ]
  },
  {
   "cell_type": "code",
   "execution_count": 8,
   "metadata": {},
   "outputs": [
    {
     "data": {
      "text/plain": [
       "0          5\n",
       "1          3\n",
       "2          3\n",
       "3          4\n",
       "4          5\n",
       "          ..\n",
       "1000203    3\n",
       "1000205    5\n",
       "1000206    5\n",
       "1000207    4\n",
       "1000208    4\n",
       "Name: count, Length: 836478, dtype: int64"
      ]
     },
     "execution_count": 8,
     "metadata": {},
     "output_type": "execute_result"
    }
   ],
   "source": [
    "ratings['count']"
   ]
  },
  {
   "cell_type": "markdown",
   "metadata": {},
   "source": [
    "값을 확인해 봤을 떄, 1000208번째까지 값이 나와 확인했다. 분명히 위에서 3점 이상은 filter을 해줬었다.   \n",
    "밑에 값을 보니 Length는 제대로 나온것 같고, 인덱스 번호인것 같다."
   ]
  },
  {
   "cell_type": "code",
   "execution_count": 9,
   "metadata": {},
   "outputs": [
    {
     "data": {
      "text/html": [
       "<div>\n",
       "<style scoped>\n",
       "    .dataframe tbody tr th:only-of-type {\n",
       "        vertical-align: middle;\n",
       "    }\n",
       "\n",
       "    .dataframe tbody tr th {\n",
       "        vertical-align: top;\n",
       "    }\n",
       "\n",
       "    .dataframe thead th {\n",
       "        text-align: right;\n",
       "    }\n",
       "</style>\n",
       "<table border=\"1\" class=\"dataframe\">\n",
       "  <thead>\n",
       "    <tr style=\"text-align: right;\">\n",
       "      <th></th>\n",
       "      <th>movie_id</th>\n",
       "      <th>title</th>\n",
       "      <th>genre</th>\n",
       "    </tr>\n",
       "  </thead>\n",
       "  <tbody>\n",
       "    <tr>\n",
       "      <th>0</th>\n",
       "      <td>1</td>\n",
       "      <td>Toy Story (1995)</td>\n",
       "      <td>Animation|Children's|Comedy</td>\n",
       "    </tr>\n",
       "    <tr>\n",
       "      <th>1</th>\n",
       "      <td>2</td>\n",
       "      <td>Jumanji (1995)</td>\n",
       "      <td>Adventure|Children's|Fantasy</td>\n",
       "    </tr>\n",
       "    <tr>\n",
       "      <th>2</th>\n",
       "      <td>3</td>\n",
       "      <td>Grumpier Old Men (1995)</td>\n",
       "      <td>Comedy|Romance</td>\n",
       "    </tr>\n",
       "    <tr>\n",
       "      <th>3</th>\n",
       "      <td>4</td>\n",
       "      <td>Waiting to Exhale (1995)</td>\n",
       "      <td>Comedy|Drama</td>\n",
       "    </tr>\n",
       "    <tr>\n",
       "      <th>4</th>\n",
       "      <td>5</td>\n",
       "      <td>Father of the Bride Part II (1995)</td>\n",
       "      <td>Comedy</td>\n",
       "    </tr>\n",
       "  </tbody>\n",
       "</table>\n",
       "</div>"
      ],
      "text/plain": [
       "   movie_id                               title                         genre\n",
       "0         1                    Toy Story (1995)   Animation|Children's|Comedy\n",
       "1         2                      Jumanji (1995)  Adventure|Children's|Fantasy\n",
       "2         3             Grumpier Old Men (1995)                Comedy|Romance\n",
       "3         4            Waiting to Exhale (1995)                  Comedy|Drama\n",
       "4         5  Father of the Bride Part II (1995)                        Comedy"
      ]
     },
     "execution_count": 9,
     "metadata": {},
     "output_type": "execute_result"
    }
   ],
   "source": [
    "# 영화 제목을 보기 위해 메타 데이터를 읽어옵니다.\n",
    "movie_file_path=os.getenv('HOME') + '/aiffel/recommendata_iu/data/ml-1m/movies.dat'\n",
    "cols = ['movie_id', 'title', 'genre'] \n",
    "movies = pd.read_csv(movie_file_path, sep='::', names=cols, engine='python', encoding = 'ISO-8859-1')\n",
    "movies.head()"
   ]
  },
  {
   "cell_type": "markdown",
   "metadata": {},
   "source": [
    "**movies.dat**에는 영화제목과, genre값이 들어있었다.   \n",
    "궁금한점은, 평점과 영화 제목을 어떻게 맞출지...?가 고민이다"
   ]
  },
  {
   "cell_type": "code",
   "execution_count": 10,
   "metadata": {},
   "outputs": [
    {
     "data": {
      "text/plain": [
       "3883"
      ]
     },
     "execution_count": 10,
     "metadata": {},
     "output_type": "execute_result"
    }
   ],
   "source": [
    "movies['movie_id'].nunique()"
   ]
  },
  {
   "cell_type": "markdown",
   "metadata": {},
   "source": [
    "길이가 다른데,,,, 어떻게 맞춰질까..?"
   ]
  },
  {
   "cell_type": "markdown",
   "metadata": {},
   "source": [
    "위에 대한 해답을 찾기 위해 여러가지 시도를 해보겠다.   \n",
    "먼저, **rating**에 있는 **movie_id**를 sort 해준다."
   ]
  },
  {
   "cell_type": "code",
   "execution_count": 11,
   "metadata": {},
   "outputs": [],
   "source": [
    "sorted_ratings = ratings.sort_values(by=['movie_id', 'count'])"
   ]
  },
  {
   "cell_type": "code",
   "execution_count": 12,
   "metadata": {},
   "outputs": [
    {
     "data": {
      "text/html": [
       "<div>\n",
       "<style scoped>\n",
       "    .dataframe tbody tr th:only-of-type {\n",
       "        vertical-align: middle;\n",
       "    }\n",
       "\n",
       "    .dataframe tbody tr th {\n",
       "        vertical-align: top;\n",
       "    }\n",
       "\n",
       "    .dataframe thead th {\n",
       "        text-align: right;\n",
       "    }\n",
       "</style>\n",
       "<table border=\"1\" class=\"dataframe\">\n",
       "  <thead>\n",
       "    <tr style=\"text-align: right;\">\n",
       "      <th></th>\n",
       "      <th>user_id</th>\n",
       "      <th>movie_id</th>\n",
       "      <th>count</th>\n",
       "      <th>timestamp</th>\n",
       "    </tr>\n",
       "  </thead>\n",
       "  <tbody>\n",
       "    <tr>\n",
       "      <th>2530</th>\n",
       "      <td>21</td>\n",
       "      <td>1</td>\n",
       "      <td>3</td>\n",
       "      <td>978139347</td>\n",
       "    </tr>\n",
       "    <tr>\n",
       "      <th>3405</th>\n",
       "      <td>26</td>\n",
       "      <td>1</td>\n",
       "      <td>3</td>\n",
       "      <td>978130703</td>\n",
       "    </tr>\n",
       "    <tr>\n",
       "      <th>3847</th>\n",
       "      <td>28</td>\n",
       "      <td>1</td>\n",
       "      <td>3</td>\n",
       "      <td>978985309</td>\n",
       "    </tr>\n",
       "    <tr>\n",
       "      <th>9852</th>\n",
       "      <td>68</td>\n",
       "      <td>1</td>\n",
       "      <td>3</td>\n",
       "      <td>991376026</td>\n",
       "    </tr>\n",
       "    <tr>\n",
       "      <th>10126</th>\n",
       "      <td>73</td>\n",
       "      <td>1</td>\n",
       "      <td>3</td>\n",
       "      <td>977867812</td>\n",
       "    </tr>\n",
       "    <tr>\n",
       "      <th>...</th>\n",
       "      <td>...</td>\n",
       "      <td>...</td>\n",
       "      <td>...</td>\n",
       "      <td>...</td>\n",
       "    </tr>\n",
       "    <tr>\n",
       "      <th>745205</th>\n",
       "      <td>4448</td>\n",
       "      <td>3952</td>\n",
       "      <td>5</td>\n",
       "      <td>984802874</td>\n",
       "    </tr>\n",
       "    <tr>\n",
       "      <th>784316</th>\n",
       "      <td>4682</td>\n",
       "      <td>3952</td>\n",
       "      <td>5</td>\n",
       "      <td>998535231</td>\n",
       "    </tr>\n",
       "    <tr>\n",
       "      <th>801606</th>\n",
       "      <td>4802</td>\n",
       "      <td>3952</td>\n",
       "      <td>5</td>\n",
       "      <td>988285919</td>\n",
       "    </tr>\n",
       "    <tr>\n",
       "      <th>887055</th>\n",
       "      <td>5359</td>\n",
       "      <td>3952</td>\n",
       "      <td>5</td>\n",
       "      <td>971501252</td>\n",
       "    </tr>\n",
       "    <tr>\n",
       "      <th>905429</th>\n",
       "      <td>5475</td>\n",
       "      <td>3952</td>\n",
       "      <td>5</td>\n",
       "      <td>994750078</td>\n",
       "    </tr>\n",
       "  </tbody>\n",
       "</table>\n",
       "<p>836478 rows × 4 columns</p>\n",
       "</div>"
      ],
      "text/plain": [
       "        user_id  movie_id  count  timestamp\n",
       "2530         21         1      3  978139347\n",
       "3405         26         1      3  978130703\n",
       "3847         28         1      3  978985309\n",
       "9852         68         1      3  991376026\n",
       "10126        73         1      3  977867812\n",
       "...         ...       ...    ...        ...\n",
       "745205     4448      3952      5  984802874\n",
       "784316     4682      3952      5  998535231\n",
       "801606     4802      3952      5  988285919\n",
       "887055     5359      3952      5  971501252\n",
       "905429     5475      3952      5  994750078\n",
       "\n",
       "[836478 rows x 4 columns]"
      ]
     },
     "execution_count": 12,
     "metadata": {},
     "output_type": "execute_result"
    }
   ],
   "source": [
    "sorted_ratings"
   ]
  },
  {
   "cell_type": "markdown",
   "metadata": {},
   "source": [
    "**movie** 파일도 동일하게 **movie_id**을 기준으로 sort해준다."
   ]
  },
  {
   "cell_type": "code",
   "execution_count": 13,
   "metadata": {},
   "outputs": [],
   "source": [
    "sorted_title = movies.sort_values(by='movie_id')"
   ]
  },
  {
   "cell_type": "code",
   "execution_count": 14,
   "metadata": {},
   "outputs": [
    {
     "data": {
      "text/html": [
       "<div>\n",
       "<style scoped>\n",
       "    .dataframe tbody tr th:only-of-type {\n",
       "        vertical-align: middle;\n",
       "    }\n",
       "\n",
       "    .dataframe tbody tr th {\n",
       "        vertical-align: top;\n",
       "    }\n",
       "\n",
       "    .dataframe thead th {\n",
       "        text-align: right;\n",
       "    }\n",
       "</style>\n",
       "<table border=\"1\" class=\"dataframe\">\n",
       "  <thead>\n",
       "    <tr style=\"text-align: right;\">\n",
       "      <th></th>\n",
       "      <th>movie_id</th>\n",
       "      <th>title</th>\n",
       "      <th>genre</th>\n",
       "    </tr>\n",
       "  </thead>\n",
       "  <tbody>\n",
       "    <tr>\n",
       "      <th>0</th>\n",
       "      <td>1</td>\n",
       "      <td>Toy Story (1995)</td>\n",
       "      <td>Animation|Children's|Comedy</td>\n",
       "    </tr>\n",
       "    <tr>\n",
       "      <th>1</th>\n",
       "      <td>2</td>\n",
       "      <td>Jumanji (1995)</td>\n",
       "      <td>Adventure|Children's|Fantasy</td>\n",
       "    </tr>\n",
       "    <tr>\n",
       "      <th>2</th>\n",
       "      <td>3</td>\n",
       "      <td>Grumpier Old Men (1995)</td>\n",
       "      <td>Comedy|Romance</td>\n",
       "    </tr>\n",
       "    <tr>\n",
       "      <th>3</th>\n",
       "      <td>4</td>\n",
       "      <td>Waiting to Exhale (1995)</td>\n",
       "      <td>Comedy|Drama</td>\n",
       "    </tr>\n",
       "    <tr>\n",
       "      <th>4</th>\n",
       "      <td>5</td>\n",
       "      <td>Father of the Bride Part II (1995)</td>\n",
       "      <td>Comedy</td>\n",
       "    </tr>\n",
       "    <tr>\n",
       "      <th>...</th>\n",
       "      <td>...</td>\n",
       "      <td>...</td>\n",
       "      <td>...</td>\n",
       "    </tr>\n",
       "    <tr>\n",
       "      <th>3878</th>\n",
       "      <td>3948</td>\n",
       "      <td>Meet the Parents (2000)</td>\n",
       "      <td>Comedy</td>\n",
       "    </tr>\n",
       "    <tr>\n",
       "      <th>3879</th>\n",
       "      <td>3949</td>\n",
       "      <td>Requiem for a Dream (2000)</td>\n",
       "      <td>Drama</td>\n",
       "    </tr>\n",
       "    <tr>\n",
       "      <th>3880</th>\n",
       "      <td>3950</td>\n",
       "      <td>Tigerland (2000)</td>\n",
       "      <td>Drama</td>\n",
       "    </tr>\n",
       "    <tr>\n",
       "      <th>3881</th>\n",
       "      <td>3951</td>\n",
       "      <td>Two Family House (2000)</td>\n",
       "      <td>Drama</td>\n",
       "    </tr>\n",
       "    <tr>\n",
       "      <th>3882</th>\n",
       "      <td>3952</td>\n",
       "      <td>Contender, The (2000)</td>\n",
       "      <td>Drama|Thriller</td>\n",
       "    </tr>\n",
       "  </tbody>\n",
       "</table>\n",
       "<p>3883 rows × 3 columns</p>\n",
       "</div>"
      ],
      "text/plain": [
       "      movie_id                               title  \\\n",
       "0            1                    Toy Story (1995)   \n",
       "1            2                      Jumanji (1995)   \n",
       "2            3             Grumpier Old Men (1995)   \n",
       "3            4            Waiting to Exhale (1995)   \n",
       "4            5  Father of the Bride Part II (1995)   \n",
       "...        ...                                 ...   \n",
       "3878      3948             Meet the Parents (2000)   \n",
       "3879      3949          Requiem for a Dream (2000)   \n",
       "3880      3950                    Tigerland (2000)   \n",
       "3881      3951             Two Family House (2000)   \n",
       "3882      3952               Contender, The (2000)   \n",
       "\n",
       "                             genre  \n",
       "0      Animation|Children's|Comedy  \n",
       "1     Adventure|Children's|Fantasy  \n",
       "2                   Comedy|Romance  \n",
       "3                     Comedy|Drama  \n",
       "4                           Comedy  \n",
       "...                            ...  \n",
       "3878                        Comedy  \n",
       "3879                         Drama  \n",
       "3880                         Drama  \n",
       "3881                         Drama  \n",
       "3882                Drama|Thriller  \n",
       "\n",
       "[3883 rows x 3 columns]"
      ]
     },
     "execution_count": 14,
     "metadata": {},
     "output_type": "execute_result"
    }
   ],
   "source": [
    "sorted_title"
   ]
  },
  {
   "cell_type": "code",
   "execution_count": 15,
   "metadata": {},
   "outputs": [],
   "source": [
    "movie = pd.merge(sorted_ratings, sorted_title, on='movie_id')"
   ]
  },
  {
   "cell_type": "code",
   "execution_count": 16,
   "metadata": {
    "scrolled": true
   },
   "outputs": [
    {
     "data": {
      "text/html": [
       "<div>\n",
       "<style scoped>\n",
       "    .dataframe tbody tr th:only-of-type {\n",
       "        vertical-align: middle;\n",
       "    }\n",
       "\n",
       "    .dataframe tbody tr th {\n",
       "        vertical-align: top;\n",
       "    }\n",
       "\n",
       "    .dataframe thead th {\n",
       "        text-align: right;\n",
       "    }\n",
       "</style>\n",
       "<table border=\"1\" class=\"dataframe\">\n",
       "  <thead>\n",
       "    <tr style=\"text-align: right;\">\n",
       "      <th></th>\n",
       "      <th>user_id</th>\n",
       "      <th>movie_id</th>\n",
       "      <th>count</th>\n",
       "      <th>timestamp</th>\n",
       "      <th>title</th>\n",
       "      <th>genre</th>\n",
       "    </tr>\n",
       "  </thead>\n",
       "  <tbody>\n",
       "    <tr>\n",
       "      <th>0</th>\n",
       "      <td>21</td>\n",
       "      <td>1</td>\n",
       "      <td>3</td>\n",
       "      <td>978139347</td>\n",
       "      <td>Toy Story (1995)</td>\n",
       "      <td>Animation|Children's|Comedy</td>\n",
       "    </tr>\n",
       "    <tr>\n",
       "      <th>1</th>\n",
       "      <td>26</td>\n",
       "      <td>1</td>\n",
       "      <td>3</td>\n",
       "      <td>978130703</td>\n",
       "      <td>Toy Story (1995)</td>\n",
       "      <td>Animation|Children's|Comedy</td>\n",
       "    </tr>\n",
       "    <tr>\n",
       "      <th>2</th>\n",
       "      <td>28</td>\n",
       "      <td>1</td>\n",
       "      <td>3</td>\n",
       "      <td>978985309</td>\n",
       "      <td>Toy Story (1995)</td>\n",
       "      <td>Animation|Children's|Comedy</td>\n",
       "    </tr>\n",
       "    <tr>\n",
       "      <th>3</th>\n",
       "      <td>68</td>\n",
       "      <td>1</td>\n",
       "      <td>3</td>\n",
       "      <td>991376026</td>\n",
       "      <td>Toy Story (1995)</td>\n",
       "      <td>Animation|Children's|Comedy</td>\n",
       "    </tr>\n",
       "    <tr>\n",
       "      <th>4</th>\n",
       "      <td>73</td>\n",
       "      <td>1</td>\n",
       "      <td>3</td>\n",
       "      <td>977867812</td>\n",
       "      <td>Toy Story (1995)</td>\n",
       "      <td>Animation|Children's|Comedy</td>\n",
       "    </tr>\n",
       "    <tr>\n",
       "      <th>5</th>\n",
       "      <td>80</td>\n",
       "      <td>1</td>\n",
       "      <td>3</td>\n",
       "      <td>977786904</td>\n",
       "      <td>Toy Story (1995)</td>\n",
       "      <td>Animation|Children's|Comedy</td>\n",
       "    </tr>\n",
       "    <tr>\n",
       "      <th>6</th>\n",
       "      <td>90</td>\n",
       "      <td>1</td>\n",
       "      <td>3</td>\n",
       "      <td>993872933</td>\n",
       "      <td>Toy Story (1995)</td>\n",
       "      <td>Animation|Children's|Comedy</td>\n",
       "    </tr>\n",
       "    <tr>\n",
       "      <th>7</th>\n",
       "      <td>99</td>\n",
       "      <td>1</td>\n",
       "      <td>3</td>\n",
       "      <td>982873678</td>\n",
       "      <td>Toy Story (1995)</td>\n",
       "      <td>Animation|Children's|Comedy</td>\n",
       "    </tr>\n",
       "    <tr>\n",
       "      <th>8</th>\n",
       "      <td>114</td>\n",
       "      <td>1</td>\n",
       "      <td>3</td>\n",
       "      <td>977506130</td>\n",
       "      <td>Toy Story (1995)</td>\n",
       "      <td>Animation|Children's|Comedy</td>\n",
       "    </tr>\n",
       "    <tr>\n",
       "      <th>9</th>\n",
       "      <td>117</td>\n",
       "      <td>1</td>\n",
       "      <td>3</td>\n",
       "      <td>977498304</td>\n",
       "      <td>Toy Story (1995)</td>\n",
       "      <td>Animation|Children's|Comedy</td>\n",
       "    </tr>\n",
       "    <tr>\n",
       "      <th>10</th>\n",
       "      <td>118</td>\n",
       "      <td>1</td>\n",
       "      <td>3</td>\n",
       "      <td>977501973</td>\n",
       "      <td>Toy Story (1995)</td>\n",
       "      <td>Animation|Children's|Comedy</td>\n",
       "    </tr>\n",
       "    <tr>\n",
       "      <th>11</th>\n",
       "      <td>123</td>\n",
       "      <td>1</td>\n",
       "      <td>3</td>\n",
       "      <td>978046755</td>\n",
       "      <td>Toy Story (1995)</td>\n",
       "      <td>Animation|Children's|Comedy</td>\n",
       "    </tr>\n",
       "    <tr>\n",
       "      <th>12</th>\n",
       "      <td>131</td>\n",
       "      <td>1</td>\n",
       "      <td>3</td>\n",
       "      <td>977453922</td>\n",
       "      <td>Toy Story (1995)</td>\n",
       "      <td>Animation|Children's|Comedy</td>\n",
       "    </tr>\n",
       "    <tr>\n",
       "      <th>13</th>\n",
       "      <td>149</td>\n",
       "      <td>1</td>\n",
       "      <td>3</td>\n",
       "      <td>978190837</td>\n",
       "      <td>Toy Story (1995)</td>\n",
       "      <td>Animation|Children's|Comedy</td>\n",
       "    </tr>\n",
       "    <tr>\n",
       "      <th>14</th>\n",
       "      <td>190</td>\n",
       "      <td>1</td>\n",
       "      <td>3</td>\n",
       "      <td>977027054</td>\n",
       "      <td>Toy Story (1995)</td>\n",
       "      <td>Animation|Children's|Comedy</td>\n",
       "    </tr>\n",
       "    <tr>\n",
       "      <th>15</th>\n",
       "      <td>224</td>\n",
       "      <td>1</td>\n",
       "      <td>3</td>\n",
       "      <td>976831787</td>\n",
       "      <td>Toy Story (1995)</td>\n",
       "      <td>Animation|Children's|Comedy</td>\n",
       "    </tr>\n",
       "    <tr>\n",
       "      <th>16</th>\n",
       "      <td>230</td>\n",
       "      <td>1</td>\n",
       "      <td>3</td>\n",
       "      <td>976820070</td>\n",
       "      <td>Toy Story (1995)</td>\n",
       "      <td>Animation|Children's|Comedy</td>\n",
       "    </tr>\n",
       "    <tr>\n",
       "      <th>17</th>\n",
       "      <td>294</td>\n",
       "      <td>1</td>\n",
       "      <td>3</td>\n",
       "      <td>976542545</td>\n",
       "      <td>Toy Story (1995)</td>\n",
       "      <td>Animation|Children's|Comedy</td>\n",
       "    </tr>\n",
       "    <tr>\n",
       "      <th>18</th>\n",
       "      <td>299</td>\n",
       "      <td>1</td>\n",
       "      <td>3</td>\n",
       "      <td>976659877</td>\n",
       "      <td>Toy Story (1995)</td>\n",
       "      <td>Animation|Children's|Comedy</td>\n",
       "    </tr>\n",
       "    <tr>\n",
       "      <th>19</th>\n",
       "      <td>306</td>\n",
       "      <td>1</td>\n",
       "      <td>3</td>\n",
       "      <td>977365910</td>\n",
       "      <td>Toy Story (1995)</td>\n",
       "      <td>Animation|Children's|Comedy</td>\n",
       "    </tr>\n",
       "  </tbody>\n",
       "</table>\n",
       "</div>"
      ],
      "text/plain": [
       "    user_id  movie_id  count  timestamp             title  \\\n",
       "0        21         1      3  978139347  Toy Story (1995)   \n",
       "1        26         1      3  978130703  Toy Story (1995)   \n",
       "2        28         1      3  978985309  Toy Story (1995)   \n",
       "3        68         1      3  991376026  Toy Story (1995)   \n",
       "4        73         1      3  977867812  Toy Story (1995)   \n",
       "5        80         1      3  977786904  Toy Story (1995)   \n",
       "6        90         1      3  993872933  Toy Story (1995)   \n",
       "7        99         1      3  982873678  Toy Story (1995)   \n",
       "8       114         1      3  977506130  Toy Story (1995)   \n",
       "9       117         1      3  977498304  Toy Story (1995)   \n",
       "10      118         1      3  977501973  Toy Story (1995)   \n",
       "11      123         1      3  978046755  Toy Story (1995)   \n",
       "12      131         1      3  977453922  Toy Story (1995)   \n",
       "13      149         1      3  978190837  Toy Story (1995)   \n",
       "14      190         1      3  977027054  Toy Story (1995)   \n",
       "15      224         1      3  976831787  Toy Story (1995)   \n",
       "16      230         1      3  976820070  Toy Story (1995)   \n",
       "17      294         1      3  976542545  Toy Story (1995)   \n",
       "18      299         1      3  976659877  Toy Story (1995)   \n",
       "19      306         1      3  977365910  Toy Story (1995)   \n",
       "\n",
       "                          genre  \n",
       "0   Animation|Children's|Comedy  \n",
       "1   Animation|Children's|Comedy  \n",
       "2   Animation|Children's|Comedy  \n",
       "3   Animation|Children's|Comedy  \n",
       "4   Animation|Children's|Comedy  \n",
       "5   Animation|Children's|Comedy  \n",
       "6   Animation|Children's|Comedy  \n",
       "7   Animation|Children's|Comedy  \n",
       "8   Animation|Children's|Comedy  \n",
       "9   Animation|Children's|Comedy  \n",
       "10  Animation|Children's|Comedy  \n",
       "11  Animation|Children's|Comedy  \n",
       "12  Animation|Children's|Comedy  \n",
       "13  Animation|Children's|Comedy  \n",
       "14  Animation|Children's|Comedy  \n",
       "15  Animation|Children's|Comedy  \n",
       "16  Animation|Children's|Comedy  \n",
       "17  Animation|Children's|Comedy  \n",
       "18  Animation|Children's|Comedy  \n",
       "19  Animation|Children's|Comedy  "
      ]
     },
     "execution_count": 16,
     "metadata": {},
     "output_type": "execute_result"
    }
   ],
   "source": [
    "movie.head(20)"
   ]
  },
  {
   "cell_type": "markdown",
   "metadata": {},
   "source": [
    "`pandas`의 `merge` 메서드를 이용하여 **movie_id**를 기준으로 dataframe형태로 묶어주었다."
   ]
  },
  {
   "cell_type": "markdown",
   "metadata": {},
   "source": [
    "## 3) 내가 선호하는 영화를 5가지 골라서 rating에 추가해 줍시다."
   ]
  },
  {
   "cell_type": "code",
   "execution_count": 25,
   "metadata": {},
   "outputs": [],
   "source": [
    "my_favorite = ['Batman', 'Joker' ,'Iron man' ,'Avengers' ,'X-men']\n",
    "\n",
    "# 'zimin'이라는 user_id가 위 아티스트의 노래를 30회씩 들었다고 가정하겠습니다.\n",
    "\n",
    "my_playlist = pd.DataFrame({'user_id': ['ebang']*5, 'title': my_favorite, 'genre' : ['Action']*5, 'count':[5]*5})\n",
    "                                                       \n",
    "                            \n",
    "if not movie.isin({'user_id':['ebang']})['user_id'].any():  # user_id에 'zimin'이라는 데이터가 없다면\n",
    "    movie = movie.append(my_playlist)                           # 위에 임의로 만든 my_favorite 데이터를 추가해 줍니다. "
   ]
  },
  {
   "cell_type": "code",
   "execution_count": 26,
   "metadata": {
    "scrolled": true
   },
   "outputs": [
    {
     "data": {
      "text/html": [
       "<div>\n",
       "<style scoped>\n",
       "    .dataframe tbody tr th:only-of-type {\n",
       "        vertical-align: middle;\n",
       "    }\n",
       "\n",
       "    .dataframe tbody tr th {\n",
       "        vertical-align: top;\n",
       "    }\n",
       "\n",
       "    .dataframe thead th {\n",
       "        text-align: right;\n",
       "    }\n",
       "</style>\n",
       "<table border=\"1\" class=\"dataframe\">\n",
       "  <thead>\n",
       "    <tr style=\"text-align: right;\">\n",
       "      <th></th>\n",
       "      <th>user_id</th>\n",
       "      <th>movie_id</th>\n",
       "      <th>count</th>\n",
       "      <th>timestamp</th>\n",
       "      <th>title</th>\n",
       "      <th>genre</th>\n",
       "    </tr>\n",
       "  </thead>\n",
       "  <tbody>\n",
       "    <tr>\n",
       "      <th>0</th>\n",
       "      <td>21</td>\n",
       "      <td>1.0</td>\n",
       "      <td>3</td>\n",
       "      <td>978139347.0</td>\n",
       "      <td>Toy Story (1995)</td>\n",
       "      <td>Animation|Children's|Comedy</td>\n",
       "    </tr>\n",
       "    <tr>\n",
       "      <th>1</th>\n",
       "      <td>26</td>\n",
       "      <td>1.0</td>\n",
       "      <td>3</td>\n",
       "      <td>978130703.0</td>\n",
       "      <td>Toy Story (1995)</td>\n",
       "      <td>Animation|Children's|Comedy</td>\n",
       "    </tr>\n",
       "    <tr>\n",
       "      <th>2</th>\n",
       "      <td>28</td>\n",
       "      <td>1.0</td>\n",
       "      <td>3</td>\n",
       "      <td>978985309.0</td>\n",
       "      <td>Toy Story (1995)</td>\n",
       "      <td>Animation|Children's|Comedy</td>\n",
       "    </tr>\n",
       "    <tr>\n",
       "      <th>3</th>\n",
       "      <td>68</td>\n",
       "      <td>1.0</td>\n",
       "      <td>3</td>\n",
       "      <td>991376026.0</td>\n",
       "      <td>Toy Story (1995)</td>\n",
       "      <td>Animation|Children's|Comedy</td>\n",
       "    </tr>\n",
       "    <tr>\n",
       "      <th>4</th>\n",
       "      <td>73</td>\n",
       "      <td>1.0</td>\n",
       "      <td>3</td>\n",
       "      <td>977867812.0</td>\n",
       "      <td>Toy Story (1995)</td>\n",
       "      <td>Animation|Children's|Comedy</td>\n",
       "    </tr>\n",
       "    <tr>\n",
       "      <th>...</th>\n",
       "      <td>...</td>\n",
       "      <td>...</td>\n",
       "      <td>...</td>\n",
       "      <td>...</td>\n",
       "      <td>...</td>\n",
       "      <td>...</td>\n",
       "    </tr>\n",
       "    <tr>\n",
       "      <th>0</th>\n",
       "      <td>ebang</td>\n",
       "      <td>NaN</td>\n",
       "      <td>5</td>\n",
       "      <td>NaN</td>\n",
       "      <td>Batman</td>\n",
       "      <td>Action</td>\n",
       "    </tr>\n",
       "    <tr>\n",
       "      <th>1</th>\n",
       "      <td>ebang</td>\n",
       "      <td>NaN</td>\n",
       "      <td>5</td>\n",
       "      <td>NaN</td>\n",
       "      <td>Joker</td>\n",
       "      <td>Action</td>\n",
       "    </tr>\n",
       "    <tr>\n",
       "      <th>2</th>\n",
       "      <td>ebang</td>\n",
       "      <td>NaN</td>\n",
       "      <td>5</td>\n",
       "      <td>NaN</td>\n",
       "      <td>Iron man</td>\n",
       "      <td>Action</td>\n",
       "    </tr>\n",
       "    <tr>\n",
       "      <th>3</th>\n",
       "      <td>ebang</td>\n",
       "      <td>NaN</td>\n",
       "      <td>5</td>\n",
       "      <td>NaN</td>\n",
       "      <td>Avengers</td>\n",
       "      <td>Action</td>\n",
       "    </tr>\n",
       "    <tr>\n",
       "      <th>4</th>\n",
       "      <td>ebang</td>\n",
       "      <td>NaN</td>\n",
       "      <td>5</td>\n",
       "      <td>NaN</td>\n",
       "      <td>X-men</td>\n",
       "      <td>Action</td>\n",
       "    </tr>\n",
       "  </tbody>\n",
       "</table>\n",
       "<p>836483 rows × 6 columns</p>\n",
       "</div>"
      ],
      "text/plain": [
       "   user_id  movie_id  count    timestamp             title  \\\n",
       "0       21       1.0      3  978139347.0  Toy Story (1995)   \n",
       "1       26       1.0      3  978130703.0  Toy Story (1995)   \n",
       "2       28       1.0      3  978985309.0  Toy Story (1995)   \n",
       "3       68       1.0      3  991376026.0  Toy Story (1995)   \n",
       "4       73       1.0      3  977867812.0  Toy Story (1995)   \n",
       "..     ...       ...    ...          ...               ...   \n",
       "0    ebang       NaN      5          NaN            Batman   \n",
       "1    ebang       NaN      5          NaN             Joker   \n",
       "2    ebang       NaN      5          NaN          Iron man   \n",
       "3    ebang       NaN      5          NaN          Avengers   \n",
       "4    ebang       NaN      5          NaN             X-men   \n",
       "\n",
       "                          genre  \n",
       "0   Animation|Children's|Comedy  \n",
       "1   Animation|Children's|Comedy  \n",
       "2   Animation|Children's|Comedy  \n",
       "3   Animation|Children's|Comedy  \n",
       "4   Animation|Children's|Comedy  \n",
       "..                          ...  \n",
       "0                        Action  \n",
       "1                        Action  \n",
       "2                        Action  \n",
       "3                        Action  \n",
       "4                        Action  \n",
       "\n",
       "[836483 rows x 6 columns]"
      ]
     },
     "execution_count": 26,
     "metadata": {},
     "output_type": "execute_result"
    }
   ],
   "source": [
    "movie.head(-5)"
   ]
  },
  {
   "cell_type": "markdown",
   "metadata": {},
   "source": [
    "내가 좋아하는 영화 5가지와, 장르, rating을 추가하였다   \n",
    "가장 나중에 추가하였으니 가장 뒷부분에 내가 좋아하는 영화가 추가되었다."
   ]
  },
  {
   "cell_type": "markdown",
   "metadata": {},
   "source": [
    "## 4) CSR matrix를 직접 만들어 봅시다."
   ]
  },
  {
   "cell_type": "code",
   "execution_count": 27,
   "metadata": {},
   "outputs": [
    {
     "name": "stdout",
     "output_type": "stream",
     "text": [
      "6040\n",
      "3633\n"
     ]
    }
   ],
   "source": [
    "user_unique = movie['user_id'].unique()\n",
    "title_unique = movie['title'].unique()\n",
    "\n",
    "print(len(user_unique))\n",
    "print(len(title_unique))"
   ]
  },
  {
   "cell_type": "markdown",
   "metadata": {},
   "source": [
    "CSR matrix를 만들기 위해 먼저, `user_id`와 `title`의 unique값을 구했더니 각각 6040개, 3633개가 나온다."
   ]
  },
  {
   "cell_type": "code",
   "execution_count": 28,
   "metadata": {},
   "outputs": [],
   "source": [
    "user_to_idx = {v:k for k,v in enumerate(user_unique)}\n",
    "title_to_idx = {v:k for k,v in enumerate(title_unique)}"
   ]
  },
  {
   "cell_type": "markdown",
   "metadata": {},
   "source": [
    "키값과 벨류값을 바꿔 user이름이나 title이름으로 쉽게 찾을 수 있도록 한다."
   ]
  },
  {
   "cell_type": "code",
   "execution_count": 29,
   "metadata": {},
   "outputs": [
    {
     "name": "stdout",
     "output_type": "stream",
     "text": [
      "6039\n",
      "3628\n"
     ]
    }
   ],
   "source": [
    "print(user_to_idx['ebang'])\n",
    "print(title_to_idx['Batman'])"
   ]
  },
  {
   "cell_type": "code",
   "execution_count": 30,
   "metadata": {},
   "outputs": [
    {
     "name": "stdout",
     "output_type": "stream",
     "text": [
      "user_id column indexing OK!!\n",
      "title column indexing OK!!\n"
     ]
    },
    {
     "data": {
      "text/html": [
       "<div>\n",
       "<style scoped>\n",
       "    .dataframe tbody tr th:only-of-type {\n",
       "        vertical-align: middle;\n",
       "    }\n",
       "\n",
       "    .dataframe tbody tr th {\n",
       "        vertical-align: top;\n",
       "    }\n",
       "\n",
       "    .dataframe thead th {\n",
       "        text-align: right;\n",
       "    }\n",
       "</style>\n",
       "<table border=\"1\" class=\"dataframe\">\n",
       "  <thead>\n",
       "    <tr style=\"text-align: right;\">\n",
       "      <th></th>\n",
       "      <th>user_id</th>\n",
       "      <th>movie_id</th>\n",
       "      <th>count</th>\n",
       "      <th>timestamp</th>\n",
       "      <th>title</th>\n",
       "      <th>genre</th>\n",
       "    </tr>\n",
       "  </thead>\n",
       "  <tbody>\n",
       "    <tr>\n",
       "      <th>0</th>\n",
       "      <td>0</td>\n",
       "      <td>1.0</td>\n",
       "      <td>3</td>\n",
       "      <td>978139347.0</td>\n",
       "      <td>0</td>\n",
       "      <td>Animation|Children's|Comedy</td>\n",
       "    </tr>\n",
       "    <tr>\n",
       "      <th>1</th>\n",
       "      <td>1</td>\n",
       "      <td>1.0</td>\n",
       "      <td>3</td>\n",
       "      <td>978130703.0</td>\n",
       "      <td>0</td>\n",
       "      <td>Animation|Children's|Comedy</td>\n",
       "    </tr>\n",
       "    <tr>\n",
       "      <th>2</th>\n",
       "      <td>2</td>\n",
       "      <td>1.0</td>\n",
       "      <td>3</td>\n",
       "      <td>978985309.0</td>\n",
       "      <td>0</td>\n",
       "      <td>Animation|Children's|Comedy</td>\n",
       "    </tr>\n",
       "    <tr>\n",
       "      <th>3</th>\n",
       "      <td>3</td>\n",
       "      <td>1.0</td>\n",
       "      <td>3</td>\n",
       "      <td>991376026.0</td>\n",
       "      <td>0</td>\n",
       "      <td>Animation|Children's|Comedy</td>\n",
       "    </tr>\n",
       "    <tr>\n",
       "      <th>4</th>\n",
       "      <td>4</td>\n",
       "      <td>1.0</td>\n",
       "      <td>3</td>\n",
       "      <td>977867812.0</td>\n",
       "      <td>0</td>\n",
       "      <td>Animation|Children's|Comedy</td>\n",
       "    </tr>\n",
       "    <tr>\n",
       "      <th>...</th>\n",
       "      <td>...</td>\n",
       "      <td>...</td>\n",
       "      <td>...</td>\n",
       "      <td>...</td>\n",
       "      <td>...</td>\n",
       "      <td>...</td>\n",
       "    </tr>\n",
       "    <tr>\n",
       "      <th>0</th>\n",
       "      <td>6039</td>\n",
       "      <td>NaN</td>\n",
       "      <td>5</td>\n",
       "      <td>NaN</td>\n",
       "      <td>3628</td>\n",
       "      <td>Action</td>\n",
       "    </tr>\n",
       "    <tr>\n",
       "      <th>1</th>\n",
       "      <td>6039</td>\n",
       "      <td>NaN</td>\n",
       "      <td>5</td>\n",
       "      <td>NaN</td>\n",
       "      <td>3629</td>\n",
       "      <td>Action</td>\n",
       "    </tr>\n",
       "    <tr>\n",
       "      <th>2</th>\n",
       "      <td>6039</td>\n",
       "      <td>NaN</td>\n",
       "      <td>5</td>\n",
       "      <td>NaN</td>\n",
       "      <td>3630</td>\n",
       "      <td>Action</td>\n",
       "    </tr>\n",
       "    <tr>\n",
       "      <th>3</th>\n",
       "      <td>6039</td>\n",
       "      <td>NaN</td>\n",
       "      <td>5</td>\n",
       "      <td>NaN</td>\n",
       "      <td>3631</td>\n",
       "      <td>Action</td>\n",
       "    </tr>\n",
       "    <tr>\n",
       "      <th>4</th>\n",
       "      <td>6039</td>\n",
       "      <td>NaN</td>\n",
       "      <td>5</td>\n",
       "      <td>NaN</td>\n",
       "      <td>3632</td>\n",
       "      <td>Action</td>\n",
       "    </tr>\n",
       "  </tbody>\n",
       "</table>\n",
       "<p>836488 rows × 6 columns</p>\n",
       "</div>"
      ],
      "text/plain": [
       "    user_id  movie_id  count    timestamp  title                        genre\n",
       "0         0       1.0      3  978139347.0      0  Animation|Children's|Comedy\n",
       "1         1       1.0      3  978130703.0      0  Animation|Children's|Comedy\n",
       "2         2       1.0      3  978985309.0      0  Animation|Children's|Comedy\n",
       "3         3       1.0      3  991376026.0      0  Animation|Children's|Comedy\n",
       "4         4       1.0      3  977867812.0      0  Animation|Children's|Comedy\n",
       "..      ...       ...    ...          ...    ...                          ...\n",
       "0      6039       NaN      5          NaN   3628                       Action\n",
       "1      6039       NaN      5          NaN   3629                       Action\n",
       "2      6039       NaN      5          NaN   3630                       Action\n",
       "3      6039       NaN      5          NaN   3631                       Action\n",
       "4      6039       NaN      5          NaN   3632                       Action\n",
       "\n",
       "[836488 rows x 6 columns]"
      ]
     },
     "execution_count": 30,
     "metadata": {},
     "output_type": "execute_result"
    }
   ],
   "source": [
    "temp_user_data = movie['user_id'].map(user_to_idx.get)\n",
    "if len(temp_user_data) == len(movie):   # 모든 row가 정상적으로 인덱싱되었다면\n",
    "    print('user_id column indexing OK!!')\n",
    "    movie['user_id'] = temp_user_data   # data['user_id']을 인덱싱된 Series로 교체해 줍니다. \n",
    "else:\n",
    "    print('user_id column indexing Fail!!')\n",
    "\n",
    "# artist_to_idx을 통해 artist 컬럼도 동일한 방식으로 인덱싱해 줍니다. \n",
    "temp_title_data = movie['title'].map(title_to_idx.get)\n",
    "if len(temp_title_data) == len(movie):\n",
    "    print('title column indexing OK!!')\n",
    "    movie['title'] = temp_title_data\n",
    "else:\n",
    "    print('title column indexing Fail!!')\n",
    "\n",
    "movie"
   ]
  },
  {
   "cell_type": "markdown",
   "metadata": {},
   "source": [
    "이 부분에서 `dropna()`를 사용해서 길이가 같을 경우에만 **title**을 인덱싱 하도록하니, 정상적으로 인덱싱되지 않은 값들이 있어서 그런지 오류가 났다. 그 값을 찾기가 너무 복잡해서 그냥 dropna를 제거하고 진행하였다."
   ]
  },
  {
   "cell_type": "code",
   "execution_count": 31,
   "metadata": {},
   "outputs": [
    {
     "data": {
      "text/plain": [
       "<6040x3633 sparse matrix of type '<class 'numpy.longlong'>'\n",
       "\twith 836483 stored elements in Compressed Sparse Row format>"
      ]
     },
     "execution_count": 31,
     "metadata": {},
     "output_type": "execute_result"
    }
   ],
   "source": [
    "from scipy.sparse import csr_matrix\n",
    "\n",
    "num_user = movie['user_id'].nunique()\n",
    "num_title = movie['title'].nunique()\n",
    "\n",
    "csr_data = csr_matrix((movie['count'], (movie['user_id'], movie['title'])), shape= (num_user, num_title))\n",
    "csr_data"
   ]
  },
  {
   "cell_type": "markdown",
   "metadata": {},
   "source": [
    "내 경우에는 **csr matrix**가 6040 x 3363의 형태로 만들어졌다."
   ]
  },
  {
   "cell_type": "code",
   "execution_count": 32,
   "metadata": {},
   "outputs": [],
   "source": [
    "from implicit.als import AlternatingLeastSquares\n",
    "import os\n",
    "import numpy as np\n",
    "\n",
    "# implicit 라이브러리에서 권장하고 있는 부분입니다. 학습 내용과는 무관합니다.\n",
    "os.environ['OPENBLAS_NUM_THREADS']='1'\n",
    "os.environ['KMP_DUPLICATE_LIB_OK']='True'\n",
    "os.environ['MKL_NUM_THREADS']='1'"
   ]
  },
  {
   "cell_type": "code",
   "execution_count": 33,
   "metadata": {},
   "outputs": [],
   "source": [
    "# Implicit AlternatingLeastSquares 모델의 선언\n",
    "als_model = AlternatingLeastSquares(factors=100, regularization=0.01, use_gpu=False, iterations=15, dtype=np.float32)"
   ]
  },
  {
   "cell_type": "markdown",
   "metadata": {},
   "source": [
    "`AlternatingLeastSquares` 모델을 사용하여 추천 시스템을 구동시킨다.   \n",
    "파라미터로는 factor(차원값)을 100으로 줬고, 정규화값은 0.01, gpu는 사용하지 않고, iterations(epochs)은 15번으로 설정하였다."
   ]
  },
  {
   "cell_type": "code",
   "execution_count": 34,
   "metadata": {},
   "outputs": [
    {
     "data": {
      "text/plain": [
       "<3633x6040 sparse matrix of type '<class 'numpy.longlong'>'\n",
       "\twith 836483 stored elements in Compressed Sparse Column format>"
      ]
     },
     "execution_count": 34,
     "metadata": {},
     "output_type": "execute_result"
    }
   ],
   "source": [
    "csr_data_transpose = csr_data.T\n",
    "csr_data_transpose"
   ]
  },
  {
   "cell_type": "markdown",
   "metadata": {},
   "source": [
    "als 모델은 인풋값으로 (item X user) 형태의 matrix를 받기 때문에 Transpose를 해주었다."
   ]
  },
  {
   "cell_type": "code",
   "execution_count": 66,
   "metadata": {},
   "outputs": [
    {
     "data": {
      "application/vnd.jupyter.widget-view+json": {
       "model_id": "9c3997d3ebbd4860a102c1b1e9a23c67",
       "version_major": 2,
       "version_minor": 0
      },
      "text/plain": [
       "HBox(children=(FloatProgress(value=0.0, max=15.0), HTML(value='')))"
      ]
     },
     "metadata": {},
     "output_type": "display_data"
    },
    {
     "name": "stdout",
     "output_type": "stream",
     "text": [
      "\n"
     ]
    }
   ],
   "source": [
    "als_model.fit(csr_data_transpose)"
   ]
  },
  {
   "cell_type": "markdown",
   "metadata": {},
   "source": [
    "위와 같이 모델을 설정하고, 학습을 시켰다."
   ]
  },
  {
   "cell_type": "code",
   "execution_count": 67,
   "metadata": {},
   "outputs": [],
   "source": [
    "ebang, Batman = user_to_idx['ebang'], title_to_idx['Batman']\n",
    "ebang_vector, Batman_vector = als_model.user_factors[ebang], als_model.item_factors[Batman]"
   ]
  },
  {
   "cell_type": "code",
   "execution_count": 68,
   "metadata": {},
   "outputs": [
    {
     "data": {
      "text/plain": [
       "array([ 3.33411423e-12,  1.35713567e-11,  7.79420799e-12,  1.04606341e-11,\n",
       "       -6.50933387e-12, -5.47929063e-12,  5.08541603e-12, -2.90178580e-13,\n",
       "       -1.92322980e-12,  2.10961305e-12, -3.12875680e-12, -3.18426839e-12,\n",
       "       -5.11162889e-13, -1.06536412e-11, -3.10259804e-12,  1.58013186e-11,\n",
       "        1.73634874e-11,  5.13603483e-12, -2.60826690e-12, -1.95259330e-11,\n",
       "        5.91238809e-13, -3.55208246e-12,  8.31320689e-13, -1.87667035e-11,\n",
       "        3.54679784e-12,  1.68501888e-12,  5.22432531e-12, -4.85888510e-13,\n",
       "       -1.98733608e-12, -1.66059926e-11, -8.20772877e-12,  5.89972775e-12,\n",
       "        2.52486617e-12, -5.65965027e-12,  5.58885273e-12,  6.22021965e-12,\n",
       "       -2.56825876e-12,  2.32231899e-12,  2.34159827e-12,  9.03030472e-13,\n",
       "        1.04477408e-11,  7.55562019e-12, -1.74406461e-11, -3.59646297e-12,\n",
       "       -7.30242602e-12,  1.94645428e-12, -1.26569024e-11,  1.30882041e-11,\n",
       "       -1.74543557e-11, -4.31283525e-12,  1.06445321e-11,  5.96497114e-12,\n",
       "        8.00865190e-12, -2.88283308e-12,  9.85911179e-12,  5.31620429e-13,\n",
       "        8.29547195e-12, -9.91073629e-12, -4.24224024e-12,  6.18769142e-12,\n",
       "        5.57053622e-12,  1.22799609e-11, -5.03179790e-12, -8.63935746e-12,\n",
       "       -8.11549699e-12, -4.86099008e-12, -7.37542666e-12, -2.66950242e-12,\n",
       "       -4.33840637e-12,  2.93595335e-12,  2.49381267e-12,  1.07137454e-12,\n",
       "       -9.33689237e-12,  6.87561900e-12, -1.77305154e-12,  6.03092576e-12,\n",
       "        1.60466970e-11,  7.54984183e-12,  2.32406585e-12, -3.29305853e-12,\n",
       "        2.83761166e-12, -1.70312234e-12, -9.33225285e-12,  1.16423555e-11,\n",
       "        3.02603049e-13, -2.85899776e-12, -3.83173441e-12,  1.40325624e-11,\n",
       "        3.65682614e-12, -1.30406547e-12,  4.81702265e-12, -7.52109800e-13,\n",
       "        6.31934609e-12, -4.42612093e-12, -8.47274247e-12, -1.13488975e-11,\n",
       "       -4.31824888e-12, -7.59728652e-12,  4.26468366e-12,  2.11295066e-13],\n",
       "      dtype=float32)"
      ]
     },
     "execution_count": 68,
     "metadata": {},
     "output_type": "execute_result"
    }
   ],
   "source": [
    "ebang_vector"
   ]
  },
  {
   "cell_type": "code",
   "execution_count": 69,
   "metadata": {},
   "outputs": [
    {
     "data": {
      "text/plain": [
       "array([ 4.81531793e-14,  1.21311815e-13,  6.22590426e-14,  1.02673600e-13,\n",
       "       -3.95481038e-14, -1.21482067e-14,  6.49330917e-14,  1.41667277e-14,\n",
       "        2.22655299e-14,  4.23853085e-14, -3.14611821e-14,  4.78830673e-14,\n",
       "        5.13141369e-14, -7.81637599e-14,  5.58647502e-14,  1.30144972e-13,\n",
       "        1.47254889e-13,  6.15607961e-14, -1.21118876e-14, -1.04118618e-13,\n",
       "        3.27203407e-14,  4.82599182e-15,  4.39492599e-14, -4.79990600e-14,\n",
       "        5.27648807e-14,  4.59565213e-14,  5.39805932e-14,  1.71910995e-14,\n",
       "       -1.24350501e-14, -3.86211110e-14, -7.69266581e-14,  4.54100021e-14,\n",
       "        3.61203851e-14,  2.58366343e-14,  7.64100561e-14,  8.51533538e-14,\n",
       "        2.43091404e-15,  4.20788892e-14,  4.43894562e-14,  3.76532810e-14,\n",
       "        8.29934401e-14,  5.95628622e-14, -9.76370609e-14,  2.27349911e-14,\n",
       "       -3.75511932e-14,  4.35711478e-14, -6.84672588e-14,  1.24109409e-13,\n",
       "       -8.88233375e-14, -1.08950087e-14,  9.74930518e-14,  7.95890250e-14,\n",
       "        9.22228128e-14,  2.46650777e-14,  5.12691526e-14,  3.59035887e-14,\n",
       "        8.84992830e-14, -3.17140858e-14, -4.44301900e-15,  6.06218092e-14,\n",
       "        3.23457420e-14,  1.00774525e-13, -2.34862310e-15, -3.44656825e-14,\n",
       "       -9.73115750e-15, -3.18665992e-14, -3.36517889e-14,  1.54080598e-15,\n",
       "       -1.13809735e-14,  4.25180961e-14,  3.27950761e-14, -6.17080866e-15,\n",
       "       -5.59378525e-14,  6.22625595e-14,  2.33594069e-14,  6.39988144e-14,\n",
       "        1.45422872e-13,  9.27251372e-14,  3.18999316e-14, -1.94373631e-14,\n",
       "        4.72350464e-14, -4.68107253e-15, -2.86706524e-14,  1.00597156e-13,\n",
       "        1.38435177e-14, -1.22975102e-15, -7.73856755e-15,  1.45586546e-13,\n",
       "        3.69283292e-14,  6.22727400e-15,  6.15753989e-14, -8.41942787e-15,\n",
       "        7.06646249e-14, -2.71132854e-15, -1.81197441e-14, -3.48577063e-14,\n",
       "       -2.66181459e-14, -3.09979140e-15,  8.04135017e-16,  3.54447578e-14],\n",
       "      dtype=float32)"
      ]
     },
     "execution_count": 69,
     "metadata": {},
     "output_type": "execute_result"
    }
   ],
   "source": [
    "Batman_vector"
   ]
  },
  {
   "cell_type": "code",
   "execution_count": 70,
   "metadata": {},
   "outputs": [
    {
     "data": {
      "text/plain": [
       "3.951218e-23"
      ]
     },
     "execution_count": 70,
     "metadata": {},
     "output_type": "execute_result"
    }
   ],
   "source": [
    "np.dot(ebang_vector, Batman_vector)"
   ]
  },
  {
   "cell_type": "markdown",
   "metadata": {},
   "source": [
    "먼저, user_id에서 내 아이디와, 내가 고른 영화 **Batman**을 확인해보니 3.9512... 의 값이 나온다.   \n",
    "노드에서는 1을 기준으로 했던것과 달리 나는 더 큰 값이 나왔다. 정규화가 제대로 되지 않은걸까.. 어떤 오류인지 확인하지 못하고 그대로 진행해보았다."
   ]
  },
  {
   "cell_type": "code",
   "execution_count": 72,
   "metadata": {},
   "outputs": [
    {
     "data": {
      "text/plain": [
       "6.1335955e-23"
      ]
     },
     "execution_count": 72,
     "metadata": {},
     "output_type": "execute_result"
    }
   ],
   "source": [
    "joker = title_to_idx['Joker']\n",
    "joker_vector = als_model.item_factors[joker]\n",
    "np.dot(ebang_vector, joker_vector)"
   ]
  },
  {
   "cell_type": "markdown",
   "metadata": {},
   "source": [
    "조커와의 거리는 6이 넘게 나왔다."
   ]
  },
  {
   "cell_type": "code",
   "execution_count": 73,
   "metadata": {},
   "outputs": [
    {
     "data": {
      "text/plain": [
       "[(3628, 0.99999994),\n",
       " (3629, 0.98597646),\n",
       " (3632, 0.9842743),\n",
       " (3631, 0.96867067),\n",
       " (3630, 0.9678733),\n",
       " (2947, 0.7392987),\n",
       " (131, 0.73929864),\n",
       " (564, 0.73929864),\n",
       " (2566, 0.7392985),\n",
       " (657, 0.7392985),\n",
       " (1992, 0.7392931),\n",
       " (1395, 0.73929304),\n",
       " (1363, 0.7392528),\n",
       " (586, 0.73925275),\n",
       " (710, 0.73925275)]"
      ]
     },
     "execution_count": 73,
     "metadata": {},
     "output_type": "execute_result"
    }
   ],
   "source": [
    "favorite_movie = 'Batman'\n",
    "movie_id = title_to_idx[favorite_movie]\n",
    "similar_movie = als_model.similar_items(movie_id, N=15)\n",
    "similar_movie"
   ]
  },
  {
   "cell_type": "code",
   "execution_count": 74,
   "metadata": {},
   "outputs": [
    {
     "data": {
      "text/plain": [
       "['Batman',\n",
       " 'Joker',\n",
       " 'X-men',\n",
       " 'Avengers',\n",
       " 'Iron man',\n",
       " \"Another Man's Poison (1952)\",\n",
       " 'Neon Bible, The (1995)',\n",
       " \"I Don't Want to Talk About It (De eso no se habla) (1993)\",\n",
       " 'Male and Female (1919)',\n",
       " 'Daens (1992)',\n",
       " 'Number Seventeen (1932)',\n",
       " 'War at Home, The (1996)',\n",
       " \"Brother's Kiss, A (1997)\",\n",
       " 'Century (1993)',\n",
       " 'Last of the High Kings, The (a.k.a. Summer Fling) (1996)']"
      ]
     },
     "execution_count": 74,
     "metadata": {},
     "output_type": "execute_result"
    }
   ],
   "source": [
    "#artist_to_idx 를 뒤집어, index로부터 artist 이름을 얻는 dict를 생성합니다. \n",
    "idx_to_title = {v:k for k,v in title_to_idx.items()}\n",
    "[idx_to_title[i[0]] for i in similar_movie]"
   ]
  },
  {
   "cell_type": "markdown",
   "metadata": {},
   "source": [
    "최종적으로 배트맨과 비슷한 부류의 영화를 추천받아보니 내가 좋아서 추가하였던 Joker, X-men, Avengers, Iron man등이 가장 먼저 나오고, 이후에는 드라마 종류의 영화가 추천되었다."
   ]
  },
  {
   "cell_type": "code",
   "execution_count": 78,
   "metadata": {},
   "outputs": [],
   "source": [
    "def get_similar_movie(movie_name: str):\n",
    "    movie_id = title_to_idx[favorite_movie]\n",
    "    similar_movie = als_model.similar_items(movie_id, N=15)\n",
    "    similar_movie = [idx_to_title[i[0]] for i in similar_movie]\n",
    "    return similar_movie"
   ]
  },
  {
   "cell_type": "markdown",
   "metadata": {},
   "source": [
    "위 과정을 전부 함수로 만들어주고,"
   ]
  },
  {
   "cell_type": "code",
   "execution_count": 79,
   "metadata": {},
   "outputs": [
    {
     "data": {
      "text/plain": [
       "['Batman',\n",
       " 'Joker',\n",
       " 'X-men',\n",
       " 'Avengers',\n",
       " 'Iron man',\n",
       " \"Another Man's Poison (1952)\",\n",
       " 'Neon Bible, The (1995)',\n",
       " \"I Don't Want to Talk About It (De eso no se habla) (1993)\",\n",
       " 'Male and Female (1919)',\n",
       " 'Daens (1992)',\n",
       " 'Number Seventeen (1932)',\n",
       " 'War at Home, The (1996)',\n",
       " \"Brother's Kiss, A (1997)\",\n",
       " 'Century (1993)',\n",
       " 'Last of the High Kings, The (a.k.a. Summer Fling) (1996)']"
      ]
     },
     "execution_count": 79,
     "metadata": {},
     "output_type": "execute_result"
    }
   ],
   "source": [
    "get_similar_movie('X-men')"
   ]
  },
  {
   "cell_type": "markdown",
   "metadata": {},
   "source": [
    "X-men과 비슷한 부류의 영화를 추천해달라고하니, Batman, Joker, Avengers 등의 영화를 추천해주는걸 확인할 수 있다."
   ]
  },
  {
   "cell_type": "markdown",
   "metadata": {},
   "source": [
    "# 회고:  \n",
    "## 1. **이번 프로젝트에서 어려웠던 점**   \n",
    "세세한 부분을 확실히 이해하지 못해서 프로젝트를 진행하는데 어려움이 있었다. 전반적인 흐름을 알겠으나, 각 과정에서 디테일하게 이해를 하지 못하면 오류가 발생했을 시 바로잡기가 더욱 힘들어진다. 이번 프로젝트에서는 4)CSR matrix를 만드는 과정에서 오류가 조금 있었는데 어느정도 대처를 하고 넘어가 다행히 프로젝트를 마무리 할수 있게 되었다. 이처럼 전체 과정에서 세세한 부분을 이해하지 못해서 생기는 문제가 개인적으로는 어려웠다.\n",
    "\n",
    "   \n",
    "## 2. **프로젝트를 진행하면서 알아낸 점 혹은 아직 모호한 점**   \n",
    "결국에는 한 벡터값을 기준으로 거리가 가까운 다른 벡터를 비교해 추천해주는 방식으로 이 추천서비스가 작동되는 것을 이해했다. 하지만 그외에 왜 AlternatingLeastSquares 모델이 사용되었는지에 대해 설명이 안되어 있어 아쉽다.\n",
    "\n",
    "## 3. **루브릭 평가 지표를 맞추기 위해 시도한 것들**   \n",
    "- CSR matrix가 정상적으로 만들어졌다.   \n",
    "3633x6040 sparse matrix를 생성하였다.   \n",
    "- MF 모델이 정상적으로 훈련되어 그럴듯한 추천이 이루어졌다.   \n",
    "AlternatingLeastSquares을 사용하여 모델을 세팅하였고, 트레인 하였다.   \n",
    "- 비슷한 영화 찾기와 유저에게 추천하기의 과정이 정상적으로 진행되었다.   \n",
    "Batman과 비슷한 액션 영화를 찾을 수 있었으며 비슷한 영화 15종을 추천해주었다.\n",
    "\n",
    "   \n",
    "### 4. **만약에 루브릭 평가 관련 지표를 달성 하지 못했을 때, 이유에 관한 추정**   \n",
    "위 1번에서 말한 부분과 연관된 부분인데, 전체 과정을 이해하지 못했기 보다는 세부적인 내용에 대해 이해가 안가는 부분이 있어서 오류가 생겼을 시 해결하는데 어려움이 있었을것 같다. 지금도 당장은 해결하고 프로젝트를 제출하는데는 문제가 없지만, 근본적인 해결책을 통하여 해결하지 못한거 같아 아쉬움이 있다.\n",
    "   \n",
    "### 5. **자기 다짐**   \n",
    "추천시스템은 사실 안쓰이는 플랫폼이 없을 정도로 널리 사용되고 있는데 제대로 이해하지 못하고 프로젝트를 제출하게되서 아쉬운 마음이다. 오프라인 이었다면 팀원들과 모여 질문하고 토의하며 궁금증을 해결했을 수도 있었을텐데라는 아쉬움도 있다. 잘 만들어진 추천서비스는 상업적으로 꽤나 유용한 프로그램이기에 나중에 기회가 된다면 더 공부해볼 예정이다.\n",
    "\n",
    "\n",
    "   "
   ]
  },
  {
   "cell_type": "code",
   "execution_count": null,
   "metadata": {},
   "outputs": [],
   "source": []
  },
  {
   "cell_type": "code",
   "execution_count": null,
   "metadata": {},
   "outputs": [],
   "source": []
  }
 ],
 "metadata": {
  "kernelspec": {
   "display_name": "aiffel",
   "language": "python",
   "name": "aiffel"
  },
  "language_info": {
   "codemirror_mode": {
    "name": "ipython",
    "version": 3
   },
   "file_extension": ".py",
   "mimetype": "text/x-python",
   "name": "python",
   "nbconvert_exporter": "python",
   "pygments_lexer": "ipython3",
   "version": "3.7.6"
  }
 },
 "nbformat": 4,
 "nbformat_minor": 5
}
